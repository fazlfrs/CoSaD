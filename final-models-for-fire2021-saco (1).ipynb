{
 "cells": [
  {
   "cell_type": "code",
   "execution_count": 1,
   "metadata": {
    "execution": {
     "iopub.execute_input": "2021-06-22T07:23:26.922445Z",
     "iopub.status.busy": "2021-06-22T07:23:26.922054Z",
     "iopub.status.idle": "2021-06-22T07:23:26.9308Z",
     "shell.execute_reply": "2021-06-22T07:23:26.929998Z",
     "shell.execute_reply.started": "2021-06-22T07:23:26.922341Z"
    }
   },
   "outputs": [],
   "source": [
    "import pandas as pd\n",
    "lang='Mal'\n",
    "#lang='tamil'\n",
    "#lang='kannada'"
   ]
  },
  {
   "cell_type": "code",
   "execution_count": 2,
   "metadata": {
    "_cell_guid": "b1076dfc-b9ad-4769-8c92-a6c4dae69d19",
    "_uuid": "8f2839f25d086af736a60e9eeb907d3b93b6e0e5",
    "execution": {
     "iopub.execute_input": "2021-06-22T07:23:27.417347Z",
     "iopub.status.busy": "2021-06-22T07:23:27.417017Z",
     "iopub.status.idle": "2021-06-22T07:23:27.536066Z",
     "shell.execute_reply": "2021-06-22T07:23:27.535183Z",
     "shell.execute_reply.started": "2021-06-22T07:23:27.417318Z"
    }
   },
   "outputs": [],
   "source": [
    "train=pd.read_csv('Saco2021DS/'+lang+'_sentiment_full_train.tsv',sep='\\t')\n",
    "dev=pd.read_csv('Saco2021DS/'+lang+'_sentiment_full_dev.tsv',sep='\\t')\n",
    "test=pd.read_csv('Saco2021DS/'+lang+'_sentiment_full_test_withoutlabels.tsv',sep='\\t')"
   ]
  },
  {
   "cell_type": "code",
   "execution_count": 3,
   "metadata": {
    "execution": {
     "iopub.execute_input": "2021-06-22T07:23:27.696891Z",
     "iopub.status.busy": "2021-06-22T07:23:27.696566Z",
     "iopub.status.idle": "2021-06-22T07:23:27.703871Z",
     "shell.execute_reply": "2021-06-22T07:23:27.703039Z",
     "shell.execute_reply.started": "2021-06-22T07:23:27.696861Z"
    }
   },
   "outputs": [
    {
     "data": {
      "text/plain": [
       "(15888, 1766, 1962)"
      ]
     },
     "execution_count": 3,
     "metadata": {},
     "output_type": "execute_result"
    }
   ],
   "source": [
    "len(train),len(dev),len(test)"
   ]
  },
  {
   "cell_type": "code",
   "execution_count": 4,
   "metadata": {},
   "outputs": [
    {
     "data": {
      "text/plain": [
       "Positive          6421\n",
       "unknown_state     5279\n",
       "Negative          2105\n",
       "not-malayalam     1157\n",
       "Mixed_feelings     926\n",
       "Name: category, dtype: int64"
      ]
     },
     "execution_count": 4,
     "metadata": {},
     "output_type": "execute_result"
    }
   ],
   "source": [
    "train.category.value_counts()"
   ]
  },
  {
   "cell_type": "code",
   "execution_count": 5,
   "metadata": {},
   "outputs": [
    {
     "data": {
      "text/plain": [
       "Positive          706\n",
       "unknown_state     580\n",
       "Negative          237\n",
       "not-malayalam     141\n",
       "Mixed_feelings    102\n",
       "Name: category, dtype: int64"
      ]
     },
     "execution_count": 5,
     "metadata": {},
     "output_type": "execute_result"
    }
   ],
   "source": [
    "dev.category.value_counts()"
   ]
  },
  {
   "cell_type": "code",
   "execution_count": 6,
   "metadata": {
    "execution": {
     "iopub.execute_input": "2021-06-22T07:23:28.760075Z",
     "iopub.status.busy": "2021-06-22T07:23:28.759744Z",
     "iopub.status.idle": "2021-06-22T07:23:28.78245Z",
     "shell.execute_reply": "2021-06-22T07:23:28.781686Z",
     "shell.execute_reply.started": "2021-06-22T07:23:28.760042Z"
    }
   },
   "outputs": [
    {
     "data": {
      "text/html": [
       "<div>\n",
       "<style scoped>\n",
       "    .dataframe tbody tr th:only-of-type {\n",
       "        vertical-align: middle;\n",
       "    }\n",
       "\n",
       "    .dataframe tbody tr th {\n",
       "        vertical-align: top;\n",
       "    }\n",
       "\n",
       "    .dataframe thead th {\n",
       "        text-align: right;\n",
       "    }\n",
       "</style>\n",
       "<table border=\"1\" class=\"dataframe\">\n",
       "  <thead>\n",
       "    <tr style=\"text-align: right;\">\n",
       "      <th></th>\n",
       "      <th>id</th>\n",
       "      <th>text</th>\n",
       "    </tr>\n",
       "  </thead>\n",
       "  <tbody>\n",
       "    <tr>\n",
       "      <th>0</th>\n",
       "      <td>Mal_1</td>\n",
       "      <td>Teaserinu kurach samayamkoodi mathram. Cant wa...</td>\n",
       "    </tr>\n",
       "    <tr>\n",
       "      <th>1</th>\n",
       "      <td>Mal_2</td>\n",
       "      <td>അപ്പോൾ കഥയുടെ  റൂട്ട് മാറിയല്ലോ...</td>\n",
       "    </tr>\n",
       "    <tr>\n",
       "      <th>2</th>\n",
       "      <td>Mal_3</td>\n",
       "      <td>മൂത്തോൻ ട്രൈലെർ Trending List വരാത്തത് എന്താ ?</td>\n",
       "    </tr>\n",
       "    <tr>\n",
       "      <th>3</th>\n",
       "      <td>Mal_4</td>\n",
       "      <td>Nowadays 944k views is considered as 1M views ...</td>\n",
       "    </tr>\n",
       "    <tr>\n",
       "      <th>4</th>\n",
       "      <td>Mal_5</td>\n",
       "      <td>Maass.trailer ennu paranja ithaanU makkale.......</td>\n",
       "    </tr>\n",
       "  </tbody>\n",
       "</table>\n",
       "</div>"
      ],
      "text/plain": [
       "      id                                               text\n",
       "0  Mal_1  Teaserinu kurach samayamkoodi mathram. Cant wa...\n",
       "1  Mal_2                 അപ്പോൾ കഥയുടെ  റൂട്ട് മാറിയല്ലോ...\n",
       "2  Mal_3     മൂത്തോൻ ട്രൈലെർ Trending List വരാത്തത് എന്താ ?\n",
       "3  Mal_4  Nowadays 944k views is considered as 1M views ...\n",
       "4  Mal_5  Maass.trailer ennu paranja ithaanU makkale......."
      ]
     },
     "execution_count": 6,
     "metadata": {},
     "output_type": "execute_result"
    }
   ],
   "source": [
    "test.head()"
   ]
  },
  {
   "cell_type": "code",
   "execution_count": 7,
   "metadata": {
    "execution": {
     "iopub.execute_input": "2021-06-22T07:23:32.570525Z",
     "iopub.status.busy": "2021-06-22T07:23:32.570078Z",
     "iopub.status.idle": "2021-06-22T07:23:41.661612Z",
     "shell.execute_reply": "2021-06-22T07:23:41.660647Z",
     "shell.execute_reply.started": "2021-06-22T07:23:32.57048Z"
    }
   },
   "outputs": [],
   "source": [
    "emoji=open('emoji.txt',encoding='utf-8').read()\n",
    "unwanted=['ـ','_','\"','！',\"'\",'=','@','&','%','.',',',':','\\\\','$','^','<','>','!','?','{','}',';','\\n','\\t','(',')','[',']','/','*','+','#','\\u200c','\\ufeff','-','_','|']\n",
    "unwanted1=[\"''\",\"\\u200d\"]\n",
    "emo=\"\"\n",
    "\n",
    "for i in emoji:\n",
    "  if i not in unwanted and i not in unwanted1:\n",
    "    emo=emo+i\n",
    "emo=list(set(emo))\n",
    "\n",
    "#!pip install indic-nlp-library\n",
    "#!pip install stopwordsiso\n",
    "#!pip install emoji\n",
    "import emoji as em\n",
    "import pandas as pd\n",
    "\n",
    "import string \n",
    "import re\n",
    "#from indicnlp.tokenize import indic_tokenize\n",
    "#import stopwordsiso as stopwords\n",
    "\n",
    "#import nltk\n",
    "#nltk.download('stopwords')\n",
    "#nltk.download('wordnet')\n",
    "def clean_text(text):\n",
    "    '''repeat_pattern = re.compile(r'(\\w)\\1*') \n",
    "    match_substitution = r'\\1' \n",
    "    text=repeat_pattern.sub(match_substitution,text)'''\n",
    "    #text=text.replace('\\n',' ')\n",
    "    stpwrds=[]#open('/content/drive/MyDrive/Constraint@AAAI2021/stopwords-hi.txt').read().split('\\n')\n",
    "    punctuations = '''!()-[]{};:'\"\\,<>./?#$=%^012|345678”€¥`9‘+@“’&*_~''' + \"[\\.]\"*3+'\\U000e0067'\n",
    "    te=''\n",
    "    for char in text:\n",
    "        if char in emo:\n",
    "            char=em.demojize(char)\n",
    "            char=char.replace(\":\",\"\").replace('_',' ')\n",
    "            \n",
    "            #char=char+   \n",
    "        te=te+char\n",
    "    text=\"\".join([char for char in te if char not in punctuations and len(char)>0])   #string.punctuation\n",
    "    #print(text)\n",
    "    sent=[]\n",
    "    text=text.split(' ')\n",
    "    \n",
    "    for word in text:\n",
    "\n",
    "        if word not in stpwrds and len(word)>2:\n",
    "            #word=ps.stem(word)\n",
    "            #word=wn.lemmatize(word)\n",
    "            if not (word.startswith('@')):\n",
    "              sent.append(word.lower())\n",
    "    return str(' '.join(sent).strip())"
   ]
  },
  {
   "cell_type": "code",
   "execution_count": 8,
   "metadata": {
    "execution": {
     "iopub.execute_input": "2021-06-22T07:23:41.663765Z",
     "iopub.status.busy": "2021-06-22T07:23:41.663221Z",
     "iopub.status.idle": "2021-06-22T07:24:07.376841Z",
     "shell.execute_reply": "2021-06-22T07:24:07.37599Z",
     "shell.execute_reply.started": "2021-06-22T07:23:41.663722Z"
    }
   },
   "outputs": [],
   "source": [
    "\n",
    "train['cleaned']=[clean_text(x) for x in train.text]\n",
    "dev['cleaned']=[clean_text(x) for x in dev.text]\n",
    "test['cleaned']=[clean_text(x) for x in test.text]\n",
    "\n"
   ]
  },
  {
   "cell_type": "code",
   "execution_count": 9,
   "metadata": {},
   "outputs": [],
   "source": [
    "#!pip install xgboost"
   ]
  },
  {
   "cell_type": "code",
   "execution_count": 10,
   "metadata": {
    "execution": {
     "iopub.execute_input": "2021-06-22T07:24:07.378897Z",
     "iopub.status.busy": "2021-06-22T07:24:07.37856Z",
     "iopub.status.idle": "2021-06-22T07:24:07.690532Z",
     "shell.execute_reply": "2021-06-22T07:24:07.689667Z",
     "shell.execute_reply.started": "2021-06-22T07:24:07.378861Z"
    }
   },
   "outputs": [],
   "source": [
    "from sklearn import model_selection, preprocessing, metrics, svm\n",
    "from sklearn.feature_extraction.text import CountVectorizer,TfidfVectorizer\n",
    "from sklearn import decomposition, ensemble\n",
    "\n",
    "import pandas as pd\n",
    "import numpy as np\n",
    "\n",
    "import string\n",
    "\n",
    "#import matplotlib.pyplot as plt\n",
    "#import seaborn as sns\n",
    "#%matplotlib inline\n",
    "\n",
    "import xgboost\n",
    "#from keras.preprocessing import text, sequence\n",
    "#from keras import layers, models, optimizers\n",
    "from sklearn.feature_extraction.text import CountVectorizer,TfidfVectorizer,HashingVectorizer\n",
    "\n"
   ]
  },
  {
   "cell_type": "code",
   "execution_count": 11,
   "metadata": {
    "execution": {
     "iopub.execute_input": "2021-06-22T07:24:07.692187Z",
     "iopub.status.busy": "2021-06-22T07:24:07.691868Z",
     "iopub.status.idle": "2021-06-22T07:24:20.605632Z",
     "shell.execute_reply": "2021-06-22T07:24:20.604723Z",
     "shell.execute_reply.started": "2021-06-22T07:24:07.69215Z"
    }
   },
   "outputs": [],
   "source": [
    "sentences=list(train.cleaned)\n",
    "from scipy.sparse import hstack\n",
    "word_vectorizer = TfidfVectorizer(\n",
    "    sublinear_tf=True,\n",
    "    strip_accents='unicode',\n",
    "    analyzer='word',\n",
    "    ngram_range=(1,3))\n",
    "word_vectorizer.fit(sentences)\n",
    "\n",
    "char_vectorizer = TfidfVectorizer(\n",
    "    sublinear_tf=True,\n",
    "    strip_accents='unicode',\n",
    "    min_df=4,\n",
    "    analyzer='char',\n",
    "    ngram_range=(1,5))\n",
    "char_vectorizer.fit(sentences)\n",
    "\n",
    "\n",
    "\n",
    "\n",
    "\n",
    "train_word_features = word_vectorizer.transform(train.cleaned)\n",
    "dev_word_features = word_vectorizer.transform(dev.cleaned)\n",
    "test_word_features = word_vectorizer.transform(test.cleaned)\n",
    "\n",
    "\n",
    "train_char_features = char_vectorizer.transform(train.cleaned)\n",
    "dev_char_features = char_vectorizer.transform(dev.cleaned)\n",
    "test_char_features = char_vectorizer.transform(test.cleaned)\n",
    "\n",
    "\n",
    "\n",
    "x_train = hstack([train_char_features, train_word_features])#,train_sn_features])\n",
    "x_dev = hstack([dev_char_features, dev_word_features])#,test_sn_features])\n",
    "x_test = hstack([test_char_features, test_word_features])#,test_sn_features])\n",
    "\n",
    "\n",
    "\n",
    "y_train=train.category\n",
    "y_dev=dev.category"
   ]
  },
  {
   "cell_type": "markdown",
   "metadata": {},
   "source": [
    "**only char ngrams**"
   ]
  },
  {
   "cell_type": "code",
   "execution_count": 12,
   "metadata": {
    "execution": {
     "iopub.execute_input": "2021-06-22T07:24:20.607479Z",
     "iopub.status.busy": "2021-06-22T07:24:20.607119Z",
     "iopub.status.idle": "2021-06-22T07:24:43.614124Z",
     "shell.execute_reply": "2021-06-22T07:24:43.613292Z",
     "shell.execute_reply.started": "2021-06-22T07:24:20.607441Z"
    }
   },
   "outputs": [
    {
     "name": "stdout",
     "output_type": "stream",
     "text": [
      "                precision    recall  f1-score   support\n",
      "\n",
      "Mixed_feelings       0.53      0.35      0.42       102\n",
      "      Negative       0.74      0.60      0.66       237\n",
      "      Positive       0.78      0.86      0.82       706\n",
      " not-malayalam       0.86      0.82      0.84       141\n",
      " unknown_state       0.73      0.74      0.74       580\n",
      "\n",
      "      accuracy                           0.75      1766\n",
      "     macro avg       0.73      0.68      0.70      1766\n",
      "  weighted avg       0.75      0.75      0.75      1766\n",
      "\n"
     ]
    },
    {
     "name": "stderr",
     "output_type": "stream",
     "text": [
      "/home/vijay/Desktop/notebook/jupyterenv/lib/python3.8/site-packages/sklearn/linear_model/_logistic.py:763: ConvergenceWarning: lbfgs failed to converge (status=1):\n",
      "STOP: TOTAL NO. of ITERATIONS REACHED LIMIT.\n",
      "\n",
      "Increase the number of iterations (max_iter) or scale the data as shown in:\n",
      "    https://scikit-learn.org/stable/modules/preprocessing.html\n",
      "Please also refer to the documentation for alternative solver options:\n",
      "    https://scikit-learn.org/stable/modules/linear_model.html#logistic-regression\n",
      "  n_iter_i = _check_optimize_result(\n"
     ]
    }
   ],
   "source": [
    "from sklearn.ensemble import VotingClassifier\n",
    "from sklearn.linear_model import LogisticRegression\n",
    "from sklearn.svm import LinearSVC,SVC\n",
    "from sklearn.metrics import accuracy_score, confusion_matrix, classification_report, f1_score\n",
    "\n",
    "\n",
    "lr=LogisticRegression(C=20)\n",
    "lr.fit(train_char_features, y_train)\n",
    "y_pred = lr.predict(dev_char_features) \n",
    "print(classification_report(y_dev, y_pred,digits=2))"
   ]
  },
  {
   "cell_type": "code",
   "execution_count": 13,
   "metadata": {},
   "outputs": [
    {
     "data": {
      "text/html": [
       "<div>\n",
       "<style scoped>\n",
       "    .dataframe tbody tr th:only-of-type {\n",
       "        vertical-align: middle;\n",
       "    }\n",
       "\n",
       "    .dataframe tbody tr th {\n",
       "        vertical-align: top;\n",
       "    }\n",
       "\n",
       "    .dataframe thead th {\n",
       "        text-align: right;\n",
       "    }\n",
       "</style>\n",
       "<table border=\"1\" class=\"dataframe\">\n",
       "  <thead>\n",
       "    <tr style=\"text-align: right;\">\n",
       "      <th></th>\n",
       "      <th>id</th>\n",
       "      <th>text</th>\n",
       "      <th>cleaned</th>\n",
       "    </tr>\n",
       "  </thead>\n",
       "  <tbody>\n",
       "    <tr>\n",
       "      <th>0</th>\n",
       "      <td>Mal_1</td>\n",
       "      <td>Teaserinu kurach samayamkoodi mathram. Cant wa...</td>\n",
       "      <td>teaserinu kurach samayamkoodi mathram cant wait</td>\n",
       "    </tr>\n",
       "    <tr>\n",
       "      <th>1</th>\n",
       "      <td>Mal_2</td>\n",
       "      <td>അപ്പോൾ കഥയുടെ  റൂട്ട് മാറിയല്ലോ...</td>\n",
       "      <td>അപ്പോൾ കഥയുടെ റൂട്ട് മാറിയല്ലോ</td>\n",
       "    </tr>\n",
       "    <tr>\n",
       "      <th>2</th>\n",
       "      <td>Mal_3</td>\n",
       "      <td>മൂത്തോൻ ട്രൈലെർ Trending List വരാത്തത് എന്താ ?</td>\n",
       "      <td>മൂത്തോൻ ട്രൈലെർ trending list വരാത്തത് എന്താ</td>\n",
       "    </tr>\n",
       "    <tr>\n",
       "      <th>3</th>\n",
       "      <td>Mal_4</td>\n",
       "      <td>Nowadays 944k views is considered as 1M views ...</td>\n",
       "      <td>nowadays views considered views kerala</td>\n",
       "    </tr>\n",
       "    <tr>\n",
       "      <th>4</th>\n",
       "      <td>Mal_5</td>\n",
       "      <td>Maass.trailer ennu paranja ithaanU makkale.......</td>\n",
       "      <td>maasstrailer ennu paranja ithaanu makkalekatta...</td>\n",
       "    </tr>\n",
       "  </tbody>\n",
       "</table>\n",
       "</div>"
      ],
      "text/plain": [
       "      id                                               text  \\\n",
       "0  Mal_1  Teaserinu kurach samayamkoodi mathram. Cant wa...   \n",
       "1  Mal_2                 അപ്പോൾ കഥയുടെ  റൂട്ട് മാറിയല്ലോ...   \n",
       "2  Mal_3     മൂത്തോൻ ട്രൈലെർ Trending List വരാത്തത് എന്താ ?   \n",
       "3  Mal_4  Nowadays 944k views is considered as 1M views ...   \n",
       "4  Mal_5  Maass.trailer ennu paranja ithaanU makkale.......   \n",
       "\n",
       "                                             cleaned  \n",
       "0    teaserinu kurach samayamkoodi mathram cant wait  \n",
       "1                     അപ്പോൾ കഥയുടെ റൂട്ട് മാറിയല്ലോ  \n",
       "2       മൂത്തോൻ ട്രൈലെർ trending list വരാത്തത് എന്താ  \n",
       "3             nowadays views considered views kerala  \n",
       "4  maasstrailer ennu paranja ithaanu makkalekatta...  "
      ]
     },
     "execution_count": 13,
     "metadata": {},
     "output_type": "execute_result"
    }
   ],
   "source": [
    "test.head()"
   ]
  },
  {
   "cell_type": "markdown",
   "metadata": {},
   "source": [
    "##predictions "
   ]
  },
  {
   "cell_type": "code",
   "execution_count": 14,
   "metadata": {},
   "outputs": [
    {
     "name": "stdout",
     "output_type": "stream",
     "text": [
      "1962\n"
     ]
    },
    {
     "data": {
      "text/html": [
       "<div>\n",
       "<style scoped>\n",
       "    .dataframe tbody tr th:only-of-type {\n",
       "        vertical-align: middle;\n",
       "    }\n",
       "\n",
       "    .dataframe tbody tr th {\n",
       "        vertical-align: top;\n",
       "    }\n",
       "\n",
       "    .dataframe thead th {\n",
       "        text-align: right;\n",
       "    }\n",
       "</style>\n",
       "<table border=\"1\" class=\"dataframe\">\n",
       "  <thead>\n",
       "    <tr style=\"text-align: right;\">\n",
       "      <th></th>\n",
       "      <th>id</th>\n",
       "      <th>text</th>\n",
       "      <th>label</th>\n",
       "    </tr>\n",
       "  </thead>\n",
       "  <tbody>\n",
       "    <tr>\n",
       "      <th>0</th>\n",
       "      <td>Mal_1</td>\n",
       "      <td>Teaserinu kurach samayamkoodi mathram. Cant wa...</td>\n",
       "      <td>unknown_state</td>\n",
       "    </tr>\n",
       "    <tr>\n",
       "      <th>1</th>\n",
       "      <td>Mal_2</td>\n",
       "      <td>അപ്പോൾ കഥയുടെ  റൂട്ട് മാറിയല്ലോ...</td>\n",
       "      <td>unknown_state</td>\n",
       "    </tr>\n",
       "    <tr>\n",
       "      <th>2</th>\n",
       "      <td>Mal_3</td>\n",
       "      <td>മൂത്തോൻ ട്രൈലെർ Trending List വരാത്തത് എന്താ ?</td>\n",
       "      <td>Positive</td>\n",
       "    </tr>\n",
       "    <tr>\n",
       "      <th>3</th>\n",
       "      <td>Mal_4</td>\n",
       "      <td>Nowadays 944k views is considered as 1M views ...</td>\n",
       "      <td>not-malayalam</td>\n",
       "    </tr>\n",
       "    <tr>\n",
       "      <th>4</th>\n",
       "      <td>Mal_5</td>\n",
       "      <td>Maass.trailer ennu paranja ithaanU makkale.......</td>\n",
       "      <td>Positive</td>\n",
       "    </tr>\n",
       "  </tbody>\n",
       "</table>\n",
       "</div>"
      ],
      "text/plain": [
       "      id                                               text          label\n",
       "0  Mal_1  Teaserinu kurach samayamkoodi mathram. Cant wa...  unknown_state\n",
       "1  Mal_2                 അപ്പോൾ കഥയുടെ  റൂട്ട് മാറിയല്ലോ...  unknown_state\n",
       "2  Mal_3     മൂത്തോൻ ട്രൈലെർ Trending List വരാത്തത് എന്താ ?       Positive\n",
       "3  Mal_4  Nowadays 944k views is considered as 1M views ...  not-malayalam\n",
       "4  Mal_5  Maass.trailer ennu paranja ithaanU makkale.......       Positive"
      ]
     },
     "execution_count": 14,
     "metadata": {},
     "output_type": "execute_result"
    }
   ],
   "source": [
    "y_pred = lr.predict(test_char_features)\n",
    "test1=test\n",
    "test1['label']=y_pred\n",
    "test1=test1.drop(['cleaned'],axis=1)\n",
    "test1.to_csv(lang+'_lr_char.tsv',sep='\\t')\n",
    "print(len(test1))\n",
    "test1.head()\n"
   ]
  },
  {
   "cell_type": "code",
   "execution_count": 15,
   "metadata": {
    "execution": {
     "iopub.execute_input": "2021-06-22T02:48:54.187199Z",
     "iopub.status.busy": "2021-06-22T02:48:54.186833Z",
     "iopub.status.idle": "2021-06-22T02:48:55.036332Z",
     "shell.execute_reply": "2021-06-22T02:48:55.034934Z",
     "shell.execute_reply.started": "2021-06-22T02:48:54.187168Z"
    }
   },
   "outputs": [
    {
     "data": {
      "text/plain": [
       "\"import pickle\\n#!rm -r models\\n!mkdir models\\n\\nfilename = 'models/charvec.sav'\\npickle.dump(char_vectorizer, open(filename, 'wb'))\\n\\nfilename = 'models/lr.sav'\\npickle.dump(lr, open(filename, 'wb'))\""
      ]
     },
     "execution_count": 15,
     "metadata": {},
     "output_type": "execute_result"
    }
   ],
   "source": [
    "'''import pickle\n",
    "#!rm -r models\n",
    "!mkdir models\n",
    "\n",
    "filename = 'models/charvec.sav'\n",
    "pickle.dump(char_vectorizer, open(filename, 'wb'))\n",
    "\n",
    "filename = 'models/lr.sav'\n",
    "pickle.dump(lr, open(filename, 'wb'))'''"
   ]
  },
  {
   "cell_type": "code",
   "execution_count": 16,
   "metadata": {
    "execution": {
     "iopub.execute_input": "2021-06-22T02:49:24.491358Z",
     "iopub.status.busy": "2021-06-22T02:49:24.490956Z",
     "iopub.status.idle": "2021-06-22T02:51:32.185797Z",
     "shell.execute_reply": "2021-06-22T02:51:32.183472Z",
     "shell.execute_reply.started": "2021-06-22T02:49:24.491321Z"
    }
   },
   "outputs": [
    {
     "name": "stdout",
     "output_type": "stream",
     "text": [
      "                precision    recall  f1-score   support\n",
      "\n",
      "Mixed_feelings       0.59      0.29      0.39       102\n",
      "      Negative       0.75      0.57      0.65       237\n",
      "      Positive       0.76      0.84      0.79       706\n",
      " not-malayalam       0.85      0.84      0.84       141\n",
      " unknown_state       0.72      0.77      0.75       580\n",
      "\n",
      "      accuracy                           0.75      1766\n",
      "     macro avg       0.73      0.66      0.68      1766\n",
      "  weighted avg       0.74      0.75      0.74      1766\n",
      "\n"
     ]
    }
   ],
   "source": [
    "\n",
    "lsvc=SVC(kernel='linear',probability=True)\n",
    "lsvc.fit(train_char_features, y_train)\n",
    "y_pred = lsvc.predict(dev_char_features) \n",
    "print(classification_report(y_dev, y_pred,digits=2))"
   ]
  },
  {
   "cell_type": "code",
   "execution_count": 17,
   "metadata": {},
   "outputs": [
    {
     "name": "stdout",
     "output_type": "stream",
     "text": [
      "1962\n"
     ]
    },
    {
     "data": {
      "text/html": [
       "<div>\n",
       "<style scoped>\n",
       "    .dataframe tbody tr th:only-of-type {\n",
       "        vertical-align: middle;\n",
       "    }\n",
       "\n",
       "    .dataframe tbody tr th {\n",
       "        vertical-align: top;\n",
       "    }\n",
       "\n",
       "    .dataframe thead th {\n",
       "        text-align: right;\n",
       "    }\n",
       "</style>\n",
       "<table border=\"1\" class=\"dataframe\">\n",
       "  <thead>\n",
       "    <tr style=\"text-align: right;\">\n",
       "      <th></th>\n",
       "      <th>id</th>\n",
       "      <th>text</th>\n",
       "      <th>label</th>\n",
       "    </tr>\n",
       "  </thead>\n",
       "  <tbody>\n",
       "    <tr>\n",
       "      <th>0</th>\n",
       "      <td>Mal_1</td>\n",
       "      <td>Teaserinu kurach samayamkoodi mathram. Cant wa...</td>\n",
       "      <td>unknown_state</td>\n",
       "    </tr>\n",
       "    <tr>\n",
       "      <th>1</th>\n",
       "      <td>Mal_2</td>\n",
       "      <td>അപ്പോൾ കഥയുടെ  റൂട്ട് മാറിയല്ലോ...</td>\n",
       "      <td>unknown_state</td>\n",
       "    </tr>\n",
       "    <tr>\n",
       "      <th>2</th>\n",
       "      <td>Mal_3</td>\n",
       "      <td>മൂത്തോൻ ട്രൈലെർ Trending List വരാത്തത് എന്താ ?</td>\n",
       "      <td>Positive</td>\n",
       "    </tr>\n",
       "    <tr>\n",
       "      <th>3</th>\n",
       "      <td>Mal_4</td>\n",
       "      <td>Nowadays 944k views is considered as 1M views ...</td>\n",
       "      <td>not-malayalam</td>\n",
       "    </tr>\n",
       "    <tr>\n",
       "      <th>4</th>\n",
       "      <td>Mal_5</td>\n",
       "      <td>Maass.trailer ennu paranja ithaanU makkale.......</td>\n",
       "      <td>Positive</td>\n",
       "    </tr>\n",
       "  </tbody>\n",
       "</table>\n",
       "</div>"
      ],
      "text/plain": [
       "      id                                               text          label\n",
       "0  Mal_1  Teaserinu kurach samayamkoodi mathram. Cant wa...  unknown_state\n",
       "1  Mal_2                 അപ്പോൾ കഥയുടെ  റൂട്ട് മാറിയല്ലോ...  unknown_state\n",
       "2  Mal_3     മൂത്തോൻ ട്രൈലെർ Trending List വരാത്തത് എന്താ ?       Positive\n",
       "3  Mal_4  Nowadays 944k views is considered as 1M views ...  not-malayalam\n",
       "4  Mal_5  Maass.trailer ennu paranja ithaanU makkale.......       Positive"
      ]
     },
     "execution_count": 17,
     "metadata": {},
     "output_type": "execute_result"
    }
   ],
   "source": [
    "y_pred = lsvc.predict(test_char_features)\n",
    "test1=test\n",
    "test1['label']=y_pred\n",
    "test1=test1.drop(['cleaned'],axis=1)\n",
    "test1.to_csv(lang+'_lsvc_char.tsv',sep='\\t')\n",
    "print(len(test1))\n",
    "test1.head()\n"
   ]
  },
  {
   "cell_type": "code",
   "execution_count": 18,
   "metadata": {
    "execution": {
     "iopub.execute_input": "2021-06-22T02:51:32.188309Z",
     "iopub.status.busy": "2021-06-22T02:51:32.18783Z",
     "iopub.status.idle": "2021-06-22T02:51:32.206735Z",
     "shell.execute_reply": "2021-06-22T02:51:32.205472Z",
     "shell.execute_reply.started": "2021-06-22T02:51:32.188264Z"
    }
   },
   "outputs": [
    {
     "data": {
      "text/plain": [
       "\"filename = 'models/lsvc.sav'\\npickle.dump(lsvc, open(filename, 'wb'))\""
      ]
     },
     "execution_count": 18,
     "metadata": {},
     "output_type": "execute_result"
    }
   ],
   "source": [
    "'''filename = 'models/lsvc.sav'\n",
    "pickle.dump(lsvc, open(filename, 'wb'))'''"
   ]
  },
  {
   "cell_type": "code",
   "execution_count": 19,
   "metadata": {
    "execution": {
     "iopub.execute_input": "2021-06-22T02:51:32.209926Z",
     "iopub.status.busy": "2021-06-22T02:51:32.209513Z",
     "iopub.status.idle": "2021-06-22T03:05:47.399225Z",
     "shell.execute_reply": "2021-06-22T03:05:47.398009Z",
     "shell.execute_reply.started": "2021-06-22T02:51:32.209894Z"
    }
   },
   "outputs": [
    {
     "name": "stdout",
     "output_type": "stream",
     "text": [
      "                precision    recall  f1-score   support\n",
      "\n",
      "Mixed_feelings       0.44      0.36      0.40       102\n",
      "      Negative       0.61      0.57      0.59       237\n",
      "      Positive       0.77      0.81      0.79       706\n",
      " not-malayalam       0.84      0.75      0.79       141\n",
      " unknown_state       0.70      0.72      0.71       580\n",
      "\n",
      "      accuracy                           0.72      1766\n",
      "     macro avg       0.67      0.64      0.65      1766\n",
      "  weighted avg       0.71      0.72      0.71      1766\n",
      "\n"
     ]
    }
   ],
   "source": [
    "from sklearn.neural_network import MLPClassifier\n",
    "mlp=MLPClassifier(hidden_layer_sizes=(150,100,50), max_iter=300,activation = 'relu',solver='adam',random_state=1)\n",
    "mlp.fit(train_char_features, y_train)\n",
    "y_pred = mlp.predict(dev_char_features) \n",
    "print(classification_report(y_dev, y_pred,digits=2))"
   ]
  },
  {
   "cell_type": "code",
   "execution_count": 20,
   "metadata": {},
   "outputs": [
    {
     "name": "stdout",
     "output_type": "stream",
     "text": [
      "1962\n"
     ]
    },
    {
     "data": {
      "text/html": [
       "<div>\n",
       "<style scoped>\n",
       "    .dataframe tbody tr th:only-of-type {\n",
       "        vertical-align: middle;\n",
       "    }\n",
       "\n",
       "    .dataframe tbody tr th {\n",
       "        vertical-align: top;\n",
       "    }\n",
       "\n",
       "    .dataframe thead th {\n",
       "        text-align: right;\n",
       "    }\n",
       "</style>\n",
       "<table border=\"1\" class=\"dataframe\">\n",
       "  <thead>\n",
       "    <tr style=\"text-align: right;\">\n",
       "      <th></th>\n",
       "      <th>id</th>\n",
       "      <th>text</th>\n",
       "      <th>label</th>\n",
       "    </tr>\n",
       "  </thead>\n",
       "  <tbody>\n",
       "    <tr>\n",
       "      <th>0</th>\n",
       "      <td>Mal_1</td>\n",
       "      <td>Teaserinu kurach samayamkoodi mathram. Cant wa...</td>\n",
       "      <td>not-malayalam</td>\n",
       "    </tr>\n",
       "    <tr>\n",
       "      <th>1</th>\n",
       "      <td>Mal_2</td>\n",
       "      <td>അപ്പോൾ കഥയുടെ  റൂട്ട് മാറിയല്ലോ...</td>\n",
       "      <td>unknown_state</td>\n",
       "    </tr>\n",
       "    <tr>\n",
       "      <th>2</th>\n",
       "      <td>Mal_3</td>\n",
       "      <td>മൂത്തോൻ ട്രൈലെർ Trending List വരാത്തത് എന്താ ?</td>\n",
       "      <td>Positive</td>\n",
       "    </tr>\n",
       "    <tr>\n",
       "      <th>3</th>\n",
       "      <td>Mal_4</td>\n",
       "      <td>Nowadays 944k views is considered as 1M views ...</td>\n",
       "      <td>not-malayalam</td>\n",
       "    </tr>\n",
       "    <tr>\n",
       "      <th>4</th>\n",
       "      <td>Mal_5</td>\n",
       "      <td>Maass.trailer ennu paranja ithaanU makkale.......</td>\n",
       "      <td>Positive</td>\n",
       "    </tr>\n",
       "  </tbody>\n",
       "</table>\n",
       "</div>"
      ],
      "text/plain": [
       "      id                                               text          label\n",
       "0  Mal_1  Teaserinu kurach samayamkoodi mathram. Cant wa...  not-malayalam\n",
       "1  Mal_2                 അപ്പോൾ കഥയുടെ  റൂട്ട് മാറിയല്ലോ...  unknown_state\n",
       "2  Mal_3     മൂത്തോൻ ട്രൈലെർ Trending List വരാത്തത് എന്താ ?       Positive\n",
       "3  Mal_4  Nowadays 944k views is considered as 1M views ...  not-malayalam\n",
       "4  Mal_5  Maass.trailer ennu paranja ithaanU makkale.......       Positive"
      ]
     },
     "execution_count": 20,
     "metadata": {},
     "output_type": "execute_result"
    }
   ],
   "source": [
    "y_pred = mlp.predict(test_char_features)\n",
    "test1=test\n",
    "test1['label']=y_pred\n",
    "test1=test1.drop(['cleaned'],axis=1)\n",
    "test1.to_csv(lang+'_mlp_char.tsv',sep='\\t')\n",
    "print(len(test1))\n",
    "test1.head()\n"
   ]
  },
  {
   "cell_type": "code",
   "execution_count": 21,
   "metadata": {
    "execution": {
     "iopub.execute_input": "2021-06-22T03:05:47.401843Z",
     "iopub.status.busy": "2021-06-22T03:05:47.401072Z",
     "iopub.status.idle": "2021-06-22T03:05:47.61628Z",
     "shell.execute_reply": "2021-06-22T03:05:47.615178Z",
     "shell.execute_reply.started": "2021-06-22T03:05:47.401795Z"
    }
   },
   "outputs": [
    {
     "data": {
      "text/plain": [
       "\"filename = 'models/mlp.sav'\\npickle.dump(mlp, open(filename, 'wb'))\""
      ]
     },
     "execution_count": 21,
     "metadata": {},
     "output_type": "execute_result"
    }
   ],
   "source": [
    "'''filename = 'models/mlp.sav'\n",
    "pickle.dump(mlp, open(filename, 'wb'))'''"
   ]
  },
  {
   "cell_type": "code",
   "execution_count": 22,
   "metadata": {
    "execution": {
     "iopub.execute_input": "2021-06-22T03:05:47.618316Z",
     "iopub.status.busy": "2021-06-22T03:05:47.617839Z",
     "iopub.status.idle": "2021-06-22T03:10:02.50371Z",
     "shell.execute_reply": "2021-06-22T03:10:02.502514Z",
     "shell.execute_reply.started": "2021-06-22T03:05:47.618277Z"
    }
   },
   "outputs": [
    {
     "data": {
      "text/plain": [
       "\"import xgboost as xgb\\n\\nxgb_clf=xgb.XGBClassifier(max_depth=20, n_estimators=80, learning_rate=0.1, colsample_bytree=.7, gamma=.01, reg_alpha=4, objective='multi:softmax')\\n\\nxgb_clf.fit(train_char_features, y_train)\\ny_pred =xgb_clf.predict(dev_char_features) \\nprint(classification_report(y_dev, y_pred,digits=2))\""
      ]
     },
     "execution_count": 22,
     "metadata": {},
     "output_type": "execute_result"
    }
   ],
   "source": [
    "'''import xgboost as xgb\n",
    "\n",
    "xgb_clf=xgb.XGBClassifier(max_depth=20, n_estimators=80, learning_rate=0.1, colsample_bytree=.7, gamma=.01, reg_alpha=4, objective='multi:softmax')\n",
    "\n",
    "xgb_clf.fit(train_char_features, y_train)\n",
    "y_pred =xgb_clf.predict(dev_char_features) \n",
    "print(classification_report(y_dev, y_pred,digits=2))'''"
   ]
  },
  {
   "cell_type": "code",
   "execution_count": 23,
   "metadata": {
    "execution": {
     "iopub.execute_input": "2021-06-22T03:10:02.50582Z",
     "iopub.status.busy": "2021-06-22T03:10:02.505317Z",
     "iopub.status.idle": "2021-06-22T03:10:02.722817Z",
     "shell.execute_reply": "2021-06-22T03:10:02.721424Z",
     "shell.execute_reply.started": "2021-06-22T03:10:02.505778Z"
    }
   },
   "outputs": [
    {
     "data": {
      "text/plain": [
       "\"\\n\\nfilename = 'models/xgb.sav'\\npickle.dump(xgb_clf, open(filename, 'wb'))\""
      ]
     },
     "execution_count": 23,
     "metadata": {},
     "output_type": "execute_result"
    }
   ],
   "source": [
    "'''\n",
    "\n",
    "filename = 'models/xgb.sav'\n",
    "pickle.dump(xgb_clf, open(filename, 'wb'))'''"
   ]
  },
  {
   "cell_type": "code",
   "execution_count": 24,
   "metadata": {
    "execution": {
     "iopub.execute_input": "2021-06-22T03:12:48.091755Z",
     "iopub.status.busy": "2021-06-22T03:12:48.09139Z",
     "iopub.status.idle": "2021-06-22T03:29:16.427171Z",
     "shell.execute_reply": "2021-06-22T03:29:16.424852Z",
     "shell.execute_reply.started": "2021-06-22T03:12:48.091724Z"
    }
   },
   "outputs": [
    {
     "name": "stderr",
     "output_type": "stream",
     "text": [
      "/home/vijay/Desktop/notebook/jupyterenv/lib/python3.8/site-packages/sklearn/linear_model/_logistic.py:763: ConvergenceWarning: lbfgs failed to converge (status=1):\n",
      "STOP: TOTAL NO. of ITERATIONS REACHED LIMIT.\n",
      "\n",
      "Increase the number of iterations (max_iter) or scale the data as shown in:\n",
      "    https://scikit-learn.org/stable/modules/preprocessing.html\n",
      "Please also refer to the documentation for alternative solver options:\n",
      "    https://scikit-learn.org/stable/modules/linear_model.html#logistic-regression\n",
      "  n_iter_i = _check_optimize_result(\n"
     ]
    },
    {
     "data": {
      "text/plain": [
       "VotingClassifier(estimators=[('lr', LogisticRegression()),\n",
       "                             ('mlp',\n",
       "                              MLPClassifier(hidden_layer_sizes=(150, 100, 50),\n",
       "                                            max_iter=300, random_state=1)),\n",
       "                             ('xgb', SVC(kernel='linear', probability=True))],\n",
       "                 voting='soft')"
      ]
     },
     "execution_count": 24,
     "metadata": {},
     "output_type": "execute_result"
    }
   ],
   "source": [
    "from sklearn.ensemble import VotingClassifier\n",
    "from sklearn.neural_network import MLPClassifier\n",
    "from sklearn.linear_model import LogisticRegression\n",
    "from sklearn.svm import LinearSVC,SVC\n",
    "from sklearn.metrics import accuracy_score, confusion_matrix, classification_report, f1_score\n",
    "from sklearn.multiclass import OneVsRestClassifier\n",
    "import xgboost as xgb\n",
    "from sklearn.linear_model import SGDClassifier\n",
    "\n",
    "\n",
    "\n",
    "#mnb=MultinomialNB()\n",
    "mlp=MLPClassifier(hidden_layer_sizes=(150,100,50), max_iter=300,activation = 'relu',solver='adam',random_state=1)\n",
    "xgb_clf=SVC(kernel='linear',probability=True)\n",
    "lr=LogisticRegression()\n",
    "estimators=[('lr', lr), ('mlp', mlp),('xgb', xgb_clf)]\n",
    "clf = VotingClassifier(estimators, voting='soft')\n",
    "ensemble =clf\n",
    "\n",
    "\n",
    "ensemble.fit(train_char_features, y_train)\n",
    "\n"
   ]
  },
  {
   "cell_type": "code",
   "execution_count": 25,
   "metadata": {
    "execution": {
     "iopub.execute_input": "2021-06-22T03:31:03.51574Z",
     "iopub.status.busy": "2021-06-22T03:31:03.515186Z",
     "iopub.status.idle": "2021-06-22T03:31:05.850017Z",
     "shell.execute_reply": "2021-06-22T03:31:05.848803Z",
     "shell.execute_reply.started": "2021-06-22T03:31:03.515695Z"
    }
   },
   "outputs": [
    {
     "name": "stdout",
     "output_type": "stream",
     "text": [
      "                precision    recall  f1-score   support\n",
      "\n",
      "Mixed_feelings     0.5286    0.3627    0.4302       102\n",
      "      Negative     0.6731    0.5907    0.6292       237\n",
      "      Positive     0.7704    0.8272    0.7978       706\n",
      " not-malayalam     0.8421    0.7943    0.8175       141\n",
      " unknown_state     0.7253    0.7466    0.7358       580\n",
      "\n",
      "      accuracy                         0.7395      1766\n",
      "     macro avg     0.7079    0.6643    0.6821      1766\n",
      "  weighted avg     0.7343    0.7395    0.7352      1766\n",
      "\n"
     ]
    }
   ],
   "source": [
    "y_pred = ensemble.predict(dev_char_features) \n",
    "print(classification_report(y_dev, y_pred,digits=4))"
   ]
  },
  {
   "cell_type": "code",
   "execution_count": 26,
   "metadata": {
    "execution": {
     "iopub.status.busy": "2021-06-22T03:29:16.428163Z",
     "iopub.status.idle": "2021-06-22T03:29:16.42866Z"
    }
   },
   "outputs": [
    {
     "name": "stdout",
     "output_type": "stream",
     "text": [
      "1962\n"
     ]
    },
    {
     "data": {
      "text/html": [
       "<div>\n",
       "<style scoped>\n",
       "    .dataframe tbody tr th:only-of-type {\n",
       "        vertical-align: middle;\n",
       "    }\n",
       "\n",
       "    .dataframe tbody tr th {\n",
       "        vertical-align: top;\n",
       "    }\n",
       "\n",
       "    .dataframe thead th {\n",
       "        text-align: right;\n",
       "    }\n",
       "</style>\n",
       "<table border=\"1\" class=\"dataframe\">\n",
       "  <thead>\n",
       "    <tr style=\"text-align: right;\">\n",
       "      <th></th>\n",
       "      <th>id</th>\n",
       "      <th>text</th>\n",
       "      <th>label</th>\n",
       "    </tr>\n",
       "  </thead>\n",
       "  <tbody>\n",
       "    <tr>\n",
       "      <th>0</th>\n",
       "      <td>Mal_1</td>\n",
       "      <td>Teaserinu kurach samayamkoodi mathram. Cant wa...</td>\n",
       "      <td>unknown_state</td>\n",
       "    </tr>\n",
       "    <tr>\n",
       "      <th>1</th>\n",
       "      <td>Mal_2</td>\n",
       "      <td>അപ്പോൾ കഥയുടെ  റൂട്ട് മാറിയല്ലോ...</td>\n",
       "      <td>unknown_state</td>\n",
       "    </tr>\n",
       "    <tr>\n",
       "      <th>2</th>\n",
       "      <td>Mal_3</td>\n",
       "      <td>മൂത്തോൻ ട്രൈലെർ Trending List വരാത്തത് എന്താ ?</td>\n",
       "      <td>Positive</td>\n",
       "    </tr>\n",
       "    <tr>\n",
       "      <th>3</th>\n",
       "      <td>Mal_4</td>\n",
       "      <td>Nowadays 944k views is considered as 1M views ...</td>\n",
       "      <td>not-malayalam</td>\n",
       "    </tr>\n",
       "    <tr>\n",
       "      <th>4</th>\n",
       "      <td>Mal_5</td>\n",
       "      <td>Maass.trailer ennu paranja ithaanU makkale.......</td>\n",
       "      <td>Positive</td>\n",
       "    </tr>\n",
       "  </tbody>\n",
       "</table>\n",
       "</div>"
      ],
      "text/plain": [
       "      id                                               text          label\n",
       "0  Mal_1  Teaserinu kurach samayamkoodi mathram. Cant wa...  unknown_state\n",
       "1  Mal_2                 അപ്പോൾ കഥയുടെ  റൂട്ട് മാറിയല്ലോ...  unknown_state\n",
       "2  Mal_3     മൂത്തോൻ ട്രൈലെർ Trending List വരാത്തത് എന്താ ?       Positive\n",
       "3  Mal_4  Nowadays 944k views is considered as 1M views ...  not-malayalam\n",
       "4  Mal_5  Maass.trailer ennu paranja ithaanU makkale.......       Positive"
      ]
     },
     "execution_count": 26,
     "metadata": {},
     "output_type": "execute_result"
    }
   ],
   "source": [
    "y_pred = ensemble.predict(test_char_features)\n",
    "test1=test\n",
    "test1['label']=y_pred\n",
    "test1=test1.drop(['cleaned'],axis=1)\n",
    "test1.to_csv(lang+'_ensemble_char.tsv',sep='\\t')\n",
    "print(len(test1))\n",
    "test1.head()\n"
   ]
  },
  {
   "cell_type": "markdown",
   "metadata": {},
   "source": [
    "**Syllabel ngrams**"
   ]
  },
  {
   "cell_type": "code",
   "execution_count": null,
   "metadata": {
    "execution": {
     "iopub.execute_input": "2021-06-22T03:33:21.204728Z",
     "iopub.status.busy": "2021-06-22T03:33:21.204331Z",
     "iopub.status.idle": "2021-06-22T03:33:51.813935Z",
     "shell.execute_reply": "2021-06-22T03:33:51.812573Z",
     "shell.execute_reply.started": "2021-06-22T03:33:21.204666Z"
    }
   },
   "outputs": [],
   "source": []
  },
  {
   "cell_type": "code",
   "execution_count": null,
   "metadata": {},
   "outputs": [],
   "source": []
  },
  {
   "cell_type": "code",
   "execution_count": 34,
   "metadata": {},
   "outputs": [
    {
     "data": {
      "text/plain": [
       "\"!git clone https://github.com/libindic/syllabalizer.git\\nimport os\\nos.chdir('syllabalizer')\\n!python setup.py sdist\\n%cd ../\\n!pip install libindic.utils\\n!pip install './syllabalizer/dist/libindic-syllabifier-0.0.1.dev28.tar.gz'\\n\""
      ]
     },
     "execution_count": 34,
     "metadata": {},
     "output_type": "execute_result"
    }
   ],
   "source": [
    "'''!git clone https://github.com/libindic/syllabalizer.git\n",
    "import os\n",
    "os.chdir('syllabalizer')\n",
    "!python setup.py sdist\n",
    "%cd ../\n",
    "!pip install libindic.utils\n",
    "!pip install './syllabalizer/dist/libindic-syllabifier-0.0.1.dev28.tar.gz'\n",
    "'''"
   ]
  },
  {
   "cell_type": "code",
   "execution_count": null,
   "metadata": {},
   "outputs": [],
   "source": []
  },
  {
   "cell_type": "code",
   "execution_count": 35,
   "metadata": {
    "execution": {
     "iopub.execute_input": "2021-06-22T03:34:07.94506Z",
     "iopub.status.busy": "2021-06-22T03:34:07.944247Z",
     "iopub.status.idle": "2021-06-22T03:34:07.976188Z",
     "shell.execute_reply": "2021-06-22T03:34:07.973853Z",
     "shell.execute_reply.started": "2021-06-22T03:34:07.944995Z"
    }
   },
   "outputs": [
    {
     "name": "stdout",
     "output_type": "stream",
     "text": [
      "Word trigrams :  ['ಕೆಲವರು_ಏನೇನೋ_ಗಾದೆ_ಮಾತು', 'ಏನೇನೋ_ಗಾದೆ_ಮಾತು_ಕೆಲವರು', 'ಗಾದೆ_ಮಾತು_ಕೆಲವರು_ಏನೇನೋ', 'ಮಾತು_ಕೆಲವರು_ಏನೇನೋ_ದ್ರಾವಿಡ', 'ಕೆಲವರು_ಏನೇನೋ_ದ್ರಾವಿಡ_ಭಾಷೆಗಳಲ್ಲಿ', 'ಏನೇನೋ_ದ್ರಾವಿಡ_ಭಾಷೆಗಳಲ್ಲಿ_ಪ್ರಾಮುಖ್ಯವುಳ್ಳ', 'ದ್ರಾವಿಡ_ಭಾಷೆಗಳಲ್ಲಿ_ಪ್ರಾಮುಖ್ಯವುಳ್ಳ_ಗಾದೆ', 'ಭಾಷೆಗಳಲ್ಲಿ_ಪ್ರಾಮುಖ್ಯವುಳ್ಳ_ಗಾದೆ_ಮಾತು', 'ಪ್ರಾಮುಖ್ಯವುಳ್ಳ_ಗಾದೆ_ಮಾತು_ಕೆಲವರು', 'ಗಾದೆ_ಮಾತು_ಕೆಲವರು_ಭಾಷೆಯೂ', 'ಮಾತು_ಕೆಲವರು_ಭಾಷೆಯೂ_ಭಾರತದ'] \n",
      "\n",
      "Syllable trigrams :  ['ಏ_ನೇ_ನೋ_ಕೆ', 'ನೇ_ನೋ_ಕೆ_ಲ', 'ನೋ_ಕೆ_ಲ_ವ', 'ಕೆ_ಲ_ವ_ರು'] \n",
      "\n",
      "Char_Components trigrams :  ['ಏ_ನ_ೇ_ನ', 'ನ_ೇ_ನ_ೋ', 'ೇ_ನ_ೋ_ಕ', 'ನ_ೋ_ಕ_ೆ', 'ೋ_ಕ_ೆ_ಲ', 'ಕ_ೆ_ಲ_ವ', 'ೆ_ಲ_ವ_ರ', 'ಲ_ವ_ರ_ು']\n"
     ]
    }
   ],
   "source": [
    "def generateNgram(words, n=1):\n",
    "    gram = dict()\n",
    "    \n",
    "    # Some helpers to keep us crashing the PC for now\n",
    "    #assert n > 0 and n < 100\n",
    "    \n",
    "    # Populate N-gram dictionary\n",
    "    for i in range(len(words)-(n-1)):\n",
    "        key = tuple(words[i:i+n])\n",
    "        if gram in key:\n",
    "            gram[key] += 1\n",
    "        else:\n",
    "            gram[key] = 1\n",
    "\n",
    "    # Turn into a list of (word, count) sorted by count from most to least\n",
    "    #gram = sorted(gram.items(), key=lambda (_, count): -count)   lambda x: x[1]\n",
    "    return ['_'.join(x) for x in list(gram.keys())]\n",
    "\n",
    "n = 4   # the value of 'n' in ngram\n",
    "words = 'ಕೆಲವರು ಏನೇನೋ ಗಾದೆ ಮಾತು ಕೆಲವರು ಏನೇನೋ ದ್ರಾವಿಡ ಭಾಷೆಗಳಲ್ಲಿ ಪ್ರಾಮುಖ್ಯವುಳ್ಳ ಗಾದೆ ಮಾತು ಕೆಲವರು ಭಾಷೆಯೂ ಭಾರತದ'\n",
    "word_trigram = generateNgram(words.split(), n)\n",
    "print(\"Word trigrams : \", word_trigram, '\\n')\n",
    "\n",
    "# the syllables given below are of these words - ಏನೇನೋಕೆಲವರು\n",
    "syllable = ['ಏ', 'ನೇ', 'ನೋ', 'ಕೆ', 'ಲ', 'ವ', 'ರು']\n",
    "syl_trigram = generateNgram(syllable, n)\n",
    "print(\"Syllable trigrams : \", syl_trigram, '\\n')\n",
    "\n",
    "# the character components of the word - ಏನೇನೋಕೆಲವರು\n",
    "char_comp = ['ಏ', 'ನ', 'ೇ', 'ನ', 'ೋ', 'ಕ', 'ೆ', 'ಲ', 'ವ', 'ರ', 'ು']\n",
    "cc_trigram = generateNgram(char_comp, n)\n",
    "print(\"Char_Components trigrams : \", cc_trigram)\n"
   ]
  },
  {
   "cell_type": "code",
   "execution_count": 36,
   "metadata": {
    "execution": {
     "iopub.execute_input": "2021-06-22T03:36:00.06067Z",
     "iopub.status.busy": "2021-06-22T03:36:00.060209Z",
     "iopub.status.idle": "2021-06-22T03:36:00.067568Z",
     "shell.execute_reply": "2021-06-22T03:36:00.066268Z",
     "shell.execute_reply.started": "2021-06-22T03:36:00.060582Z"
    }
   },
   "outputs": [],
   "source": [
    "from libindic.syllabifier import Syllabifier\n",
    "instance = Syllabifier()\n",
    "\n"
   ]
  },
  {
   "cell_type": "code",
   "execution_count": 37,
   "metadata": {
    "execution": {
     "iopub.execute_input": "2021-06-22T03:36:00.981143Z",
     "iopub.status.busy": "2021-06-22T03:36:00.980715Z",
     "iopub.status.idle": "2021-06-22T03:36:00.987681Z",
     "shell.execute_reply": "2021-06-22T03:36:00.986517Z",
     "shell.execute_reply.started": "2021-06-22T03:36:00.98111Z"
    }
   },
   "outputs": [],
   "source": [
    "def feat(sent):\n",
    "    words=sent.split(' ')\n",
    "    try:\n",
    "        syllables=instance.syllabify(sent)\n",
    "    except:\n",
    "        syllables=['NO']\n",
    "    chars=[x for x in sent]\n",
    "    ngrams=[]\n",
    "    '''for i in range (1,2):\n",
    "        ngrams.extend(generateNgram(words,i))'''\n",
    "    for i in range(1,8):\n",
    "        ngrams.extend(generateNgram(syllables,i))\n",
    "    '''for i in range(1,5):\n",
    "        ngrams.extend(generateNgram(chars,i))'''\n",
    "\n",
    "    #print('words= ',words)\n",
    "    #print('syllables= ', syllables)\n",
    "    #print('chars= ',chars)\n",
    "    return ngrams"
   ]
  },
  {
   "cell_type": "code",
   "execution_count": 38,
   "metadata": {
    "execution": {
     "iopub.execute_input": "2021-06-22T03:36:07.45738Z",
     "iopub.status.busy": "2021-06-22T03:36:07.456967Z",
     "iopub.status.idle": "2021-06-22T03:36:07.466111Z",
     "shell.execute_reply": "2021-06-22T03:36:07.464789Z",
     "shell.execute_reply.started": "2021-06-22T03:36:07.457351Z"
    }
   },
   "outputs": [
    {
     "data": {
      "text/plain": [
       "['ಏ',\n",
       " 'ನೇ',\n",
       " 'ನೋ',\n",
       " 'ಕೆ',\n",
       " 'ಲ',\n",
       " 'ವ',\n",
       " 'ರು',\n",
       " 'ಏ_ನೇ',\n",
       " 'ನೇ_ನೋ',\n",
       " 'ನೋ_ಕೆ',\n",
       " 'ಕೆ_ಲ',\n",
       " 'ಲ_ವ',\n",
       " 'ವ_ರು',\n",
       " 'ಏ_ನೇ_ನೋ',\n",
       " 'ನೇ_ನೋ_ಕೆ',\n",
       " 'ನೋ_ಕೆ_ಲ',\n",
       " 'ಕೆ_ಲ_ವ',\n",
       " 'ಲ_ವ_ರು',\n",
       " 'ಏ_ನೇ_ನೋ_ಕೆ',\n",
       " 'ನೇ_ನೋ_ಕೆ_ಲ',\n",
       " 'ನೋ_ಕೆ_ಲ_ವ',\n",
       " 'ಕೆ_ಲ_ವ_ರು',\n",
       " 'ಏ_ನೇ_ನೋ_ಕೆ_ಲ',\n",
       " 'ನೇ_ನೋ_ಕೆ_ಲ_ವ',\n",
       " 'ನೋ_ಕೆ_ಲ_ವ_ರು',\n",
       " 'ಏ_ನೇ_ನೋ_ಕೆ_ಲ_ವ',\n",
       " 'ನೇ_ನೋ_ಕೆ_ಲ_ವ_ರು',\n",
       " 'ಏ_ನೇ_ನೋ_ಕೆ_ಲ_ವ_ರು']"
      ]
     },
     "execution_count": 38,
     "metadata": {},
     "output_type": "execute_result"
    }
   ],
   "source": [
    "feat('ಏನೇನೋಕೆಲವರು')"
   ]
  },
  {
   "cell_type": "code",
   "execution_count": 39,
   "metadata": {
    "execution": {
     "iopub.execute_input": "2021-06-22T03:43:10.155011Z",
     "iopub.status.busy": "2021-06-22T03:43:10.15459Z",
     "iopub.status.idle": "2021-06-22T03:43:20.630279Z",
     "shell.execute_reply": "2021-06-22T03:43:20.629089Z",
     "shell.execute_reply.started": "2021-06-22T03:43:10.154979Z"
    }
   },
   "outputs": [],
   "source": [
    "vectorizer = TfidfVectorizer(\n",
    "    sublinear_tf=True,\n",
    "    strip_accents='unicode',\n",
    "    min_df=1,\n",
    "    analyzer=feat)\n",
    "vectorizer.fit(list(train.cleaned))\n",
    "\n",
    "train_features = vectorizer.transform(train.cleaned)\n",
    "dev_features = vectorizer.transform(dev.cleaned)\n",
    "test_features=vectorizer.transform(test.cleaned)"
   ]
  },
  {
   "cell_type": "code",
   "execution_count": 40,
   "metadata": {
    "execution": {
     "iopub.execute_input": "2021-06-22T03:43:20.632447Z",
     "iopub.status.busy": "2021-06-22T03:43:20.632034Z",
     "iopub.status.idle": "2021-06-22T03:44:15.909078Z",
     "shell.execute_reply": "2021-06-22T03:44:15.907847Z",
     "shell.execute_reply.started": "2021-06-22T03:43:20.632401Z"
    }
   },
   "outputs": [
    {
     "name": "stdout",
     "output_type": "stream",
     "text": [
      "                precision    recall  f1-score   support\n",
      "\n",
      "Mixed_feelings       0.59      0.31      0.41       102\n",
      "      Negative       0.70      0.59      0.64       237\n",
      "      Positive       0.75      0.87      0.80       706\n",
      " not-malayalam       0.84      0.83      0.84       141\n",
      " unknown_state       0.75      0.72      0.73       580\n",
      "\n",
      "      accuracy                           0.75      1766\n",
      "     macro avg       0.73      0.66      0.69      1766\n",
      "  weighted avg       0.74      0.75      0.74      1766\n",
      "\n"
     ]
    },
    {
     "name": "stderr",
     "output_type": "stream",
     "text": [
      "/home/vijay/Desktop/notebook/jupyterenv/lib/python3.8/site-packages/sklearn/linear_model/_logistic.py:763: ConvergenceWarning: lbfgs failed to converge (status=1):\n",
      "STOP: TOTAL NO. of ITERATIONS REACHED LIMIT.\n",
      "\n",
      "Increase the number of iterations (max_iter) or scale the data as shown in:\n",
      "    https://scikit-learn.org/stable/modules/preprocessing.html\n",
      "Please also refer to the documentation for alternative solver options:\n",
      "    https://scikit-learn.org/stable/modules/linear_model.html#logistic-regression\n",
      "  n_iter_i = _check_optimize_result(\n"
     ]
    }
   ],
   "source": [
    "from sklearn.ensemble import VotingClassifier\n",
    "from sklearn.linear_model import LogisticRegression\n",
    "from sklearn.svm import LinearSVC,SVC\n",
    "from sklearn.metrics import accuracy_score, confusion_matrix, classification_report, f1_score\n",
    "\n",
    "\n",
    "lr=LogisticRegression(C=50)\n",
    "lr.fit(train_features, y_train)\n",
    "y_pred = lr.predict(dev_features) \n",
    "print(classification_report(y_dev, y_pred,digits=2))"
   ]
  },
  {
   "cell_type": "code",
   "execution_count": 41,
   "metadata": {
    "execution": {
     "iopub.execute_input": "2021-06-22T03:44:15.912374Z",
     "iopub.status.busy": "2021-06-22T03:44:15.911537Z",
     "iopub.status.idle": "2021-06-22T03:44:17.595689Z",
     "shell.execute_reply": "2021-06-22T03:44:17.594416Z",
     "shell.execute_reply.started": "2021-06-22T03:44:15.912282Z"
    }
   },
   "outputs": [
    {
     "name": "stdout",
     "output_type": "stream",
     "text": [
      "1962\n"
     ]
    },
    {
     "data": {
      "text/html": [
       "<div>\n",
       "<style scoped>\n",
       "    .dataframe tbody tr th:only-of-type {\n",
       "        vertical-align: middle;\n",
       "    }\n",
       "\n",
       "    .dataframe tbody tr th {\n",
       "        vertical-align: top;\n",
       "    }\n",
       "\n",
       "    .dataframe thead th {\n",
       "        text-align: right;\n",
       "    }\n",
       "</style>\n",
       "<table border=\"1\" class=\"dataframe\">\n",
       "  <thead>\n",
       "    <tr style=\"text-align: right;\">\n",
       "      <th></th>\n",
       "      <th>id</th>\n",
       "      <th>text</th>\n",
       "      <th>label</th>\n",
       "    </tr>\n",
       "  </thead>\n",
       "  <tbody>\n",
       "    <tr>\n",
       "      <th>0</th>\n",
       "      <td>Mal_1</td>\n",
       "      <td>Teaserinu kurach samayamkoodi mathram. Cant wa...</td>\n",
       "      <td>unknown_state</td>\n",
       "    </tr>\n",
       "    <tr>\n",
       "      <th>1</th>\n",
       "      <td>Mal_2</td>\n",
       "      <td>അപ്പോൾ കഥയുടെ  റൂട്ട് മാറിയല്ലോ...</td>\n",
       "      <td>unknown_state</td>\n",
       "    </tr>\n",
       "    <tr>\n",
       "      <th>2</th>\n",
       "      <td>Mal_3</td>\n",
       "      <td>മൂത്തോൻ ട്രൈലെർ Trending List വരാത്തത് എന്താ ?</td>\n",
       "      <td>Positive</td>\n",
       "    </tr>\n",
       "    <tr>\n",
       "      <th>3</th>\n",
       "      <td>Mal_4</td>\n",
       "      <td>Nowadays 944k views is considered as 1M views ...</td>\n",
       "      <td>not-malayalam</td>\n",
       "    </tr>\n",
       "    <tr>\n",
       "      <th>4</th>\n",
       "      <td>Mal_5</td>\n",
       "      <td>Maass.trailer ennu paranja ithaanU makkale.......</td>\n",
       "      <td>Positive</td>\n",
       "    </tr>\n",
       "  </tbody>\n",
       "</table>\n",
       "</div>"
      ],
      "text/plain": [
       "      id                                               text          label\n",
       "0  Mal_1  Teaserinu kurach samayamkoodi mathram. Cant wa...  unknown_state\n",
       "1  Mal_2                 അപ്പോൾ കഥയുടെ  റൂട്ട് മാറിയല്ലോ...  unknown_state\n",
       "2  Mal_3     മൂത്തോൻ ട്രൈലെർ Trending List വരാത്തത് എന്താ ?       Positive\n",
       "3  Mal_4  Nowadays 944k views is considered as 1M views ...  not-malayalam\n",
       "4  Mal_5  Maass.trailer ennu paranja ithaanU makkale.......       Positive"
      ]
     },
     "execution_count": 41,
     "metadata": {},
     "output_type": "execute_result"
    }
   ],
   "source": [
    "y_pred = lr.predict(test_features)\n",
    "test1=test\n",
    "test1['label']=y_pred\n",
    "test1=test1.drop(['cleaned'],axis=1)\n",
    "test1.to_csv(lang+'_lr_syllabel.tsv',sep='\\t')\n",
    "print(len(test1))\n",
    "test1.head()\n"
   ]
  },
  {
   "cell_type": "code",
   "execution_count": 42,
   "metadata": {
    "execution": {
     "iopub.execute_input": "2021-06-22T03:44:42.849855Z",
     "iopub.status.busy": "2021-06-22T03:44:42.849416Z",
     "iopub.status.idle": "2021-06-22T03:49:16.749139Z",
     "shell.execute_reply": "2021-06-22T03:49:16.747886Z",
     "shell.execute_reply.started": "2021-06-22T03:44:42.849794Z"
    }
   },
   "outputs": [
    {
     "name": "stdout",
     "output_type": "stream",
     "text": [
      "                precision    recall  f1-score   support\n",
      "\n",
      "Mixed_feelings       0.67      0.22      0.33       102\n",
      "      Negative       0.71      0.57      0.63       237\n",
      "      Positive       0.73      0.88      0.80       706\n",
      " not-malayalam       0.87      0.80      0.83       141\n",
      " unknown_state       0.75      0.73      0.74       580\n",
      "\n",
      "      accuracy                           0.75      1766\n",
      "     macro avg       0.75      0.64      0.67      1766\n",
      "  weighted avg       0.74      0.75      0.73      1766\n",
      "\n"
     ]
    }
   ],
   "source": [
    "svm_clf=SVC(kernel='linear',probability=True)\n",
    "svm_clf.fit(train_features, y_train)\n",
    "y_pred = svm_clf.predict(dev_features)\n",
    "print(classification_report(y_dev, y_pred))"
   ]
  },
  {
   "cell_type": "code",
   "execution_count": 43,
   "metadata": {
    "execution": {
     "iopub.execute_input": "2021-06-22T03:49:16.751886Z",
     "iopub.status.busy": "2021-06-22T03:49:16.751187Z",
     "iopub.status.idle": "2021-06-22T03:49:16.778993Z",
     "shell.execute_reply": "2021-06-22T03:49:16.777863Z",
     "shell.execute_reply.started": "2021-06-22T03:49:16.751839Z"
    }
   },
   "outputs": [
    {
     "name": "stdout",
     "output_type": "stream",
     "text": [
      "1962\n"
     ]
    },
    {
     "data": {
      "text/html": [
       "<div>\n",
       "<style scoped>\n",
       "    .dataframe tbody tr th:only-of-type {\n",
       "        vertical-align: middle;\n",
       "    }\n",
       "\n",
       "    .dataframe tbody tr th {\n",
       "        vertical-align: top;\n",
       "    }\n",
       "\n",
       "    .dataframe thead th {\n",
       "        text-align: right;\n",
       "    }\n",
       "</style>\n",
       "<table border=\"1\" class=\"dataframe\">\n",
       "  <thead>\n",
       "    <tr style=\"text-align: right;\">\n",
       "      <th></th>\n",
       "      <th>id</th>\n",
       "      <th>text</th>\n",
       "      <th>label</th>\n",
       "    </tr>\n",
       "  </thead>\n",
       "  <tbody>\n",
       "    <tr>\n",
       "      <th>0</th>\n",
       "      <td>Mal_1</td>\n",
       "      <td>Teaserinu kurach samayamkoodi mathram. Cant wa...</td>\n",
       "      <td>unknown_state</td>\n",
       "    </tr>\n",
       "    <tr>\n",
       "      <th>1</th>\n",
       "      <td>Mal_2</td>\n",
       "      <td>അപ്പോൾ കഥയുടെ  റൂട്ട് മാറിയല്ലോ...</td>\n",
       "      <td>unknown_state</td>\n",
       "    </tr>\n",
       "    <tr>\n",
       "      <th>2</th>\n",
       "      <td>Mal_3</td>\n",
       "      <td>മൂത്തോൻ ട്രൈലെർ Trending List വരാത്തത് എന്താ ?</td>\n",
       "      <td>Positive</td>\n",
       "    </tr>\n",
       "    <tr>\n",
       "      <th>3</th>\n",
       "      <td>Mal_4</td>\n",
       "      <td>Nowadays 944k views is considered as 1M views ...</td>\n",
       "      <td>not-malayalam</td>\n",
       "    </tr>\n",
       "    <tr>\n",
       "      <th>4</th>\n",
       "      <td>Mal_5</td>\n",
       "      <td>Maass.trailer ennu paranja ithaanU makkale.......</td>\n",
       "      <td>Positive</td>\n",
       "    </tr>\n",
       "  </tbody>\n",
       "</table>\n",
       "</div>"
      ],
      "text/plain": [
       "      id                                               text          label\n",
       "0  Mal_1  Teaserinu kurach samayamkoodi mathram. Cant wa...  unknown_state\n",
       "1  Mal_2                 അപ്പോൾ കഥയുടെ  റൂട്ട് മാറിയല്ലോ...  unknown_state\n",
       "2  Mal_3     മൂത്തോൻ ട്രൈലെർ Trending List വരാത്തത് എന്താ ?       Positive\n",
       "3  Mal_4  Nowadays 944k views is considered as 1M views ...  not-malayalam\n",
       "4  Mal_5  Maass.trailer ennu paranja ithaanU makkale.......       Positive"
      ]
     },
     "execution_count": 43,
     "metadata": {},
     "output_type": "execute_result"
    }
   ],
   "source": [
    "y_pred = svm_clf.predict(test_features)\n",
    "test1=test\n",
    "test1['label']=y_pred\n",
    "test1=test1.drop(['cleaned'],axis=1)\n",
    "test1.to_csv(lang+'_lsvc_syllabel.tsv',sep='\\t')\n",
    "print(len(test1))\n",
    "test1.head()\n"
   ]
  },
  {
   "cell_type": "code",
   "execution_count": 44,
   "metadata": {
    "execution": {
     "iopub.execute_input": "2021-06-22T03:49:16.782429Z",
     "iopub.status.busy": "2021-06-22T03:49:16.781787Z",
     "iopub.status.idle": "2021-06-22T03:49:16.908102Z",
     "shell.execute_reply": "2021-06-22T03:49:16.906781Z",
     "shell.execute_reply.started": "2021-06-22T03:49:16.782381Z"
    }
   },
   "outputs": [
    {
     "data": {
      "text/plain": [
       "'from sklearn.naive_bayes import GaussianNB, MultinomialNB\\n\\nclf=MultinomialNB()\\nclf.fit(train_features, y_train)\\ny_pred = clf.predict(dev_features)\\nprint(classification_report(y_dev, y_pred))'"
      ]
     },
     "execution_count": 44,
     "metadata": {},
     "output_type": "execute_result"
    }
   ],
   "source": [
    "'''from sklearn.naive_bayes import GaussianNB, MultinomialNB\n",
    "\n",
    "clf=MultinomialNB()\n",
    "clf.fit(train_features, y_train)\n",
    "y_pred = clf.predict(dev_features)\n",
    "print(classification_report(y_dev, y_pred))'''"
   ]
  },
  {
   "cell_type": "code",
   "execution_count": 45,
   "metadata": {
    "execution": {
     "iopub.execute_input": "2021-06-22T03:49:16.910792Z",
     "iopub.status.busy": "2021-06-22T03:49:16.910309Z",
     "iopub.status.idle": "2021-06-22T06:26:52.287309Z",
     "shell.execute_reply": "2021-06-22T06:26:52.286165Z",
     "shell.execute_reply.started": "2021-06-22T03:49:16.910743Z"
    }
   },
   "outputs": [
    {
     "name": "stdout",
     "output_type": "stream",
     "text": [
      "                precision    recall  f1-score   support\n",
      "\n",
      "Mixed_feelings       0.49      0.38      0.43       102\n",
      "      Negative       0.64      0.57      0.60       237\n",
      "      Positive       0.75      0.82      0.78       706\n",
      " not-malayalam       0.78      0.76      0.77       141\n",
      " unknown_state       0.69      0.67      0.68       580\n",
      "\n",
      "      accuracy                           0.71      1766\n",
      "     macro avg       0.67      0.64      0.65      1766\n",
      "  weighted avg       0.70      0.71      0.70      1766\n",
      "\n"
     ]
    }
   ],
   "source": [
    "from sklearn.neural_network import MLPClassifier\n",
    "mlp=MLPClassifier(hidden_layer_sizes=(150,100,50), max_iter=300,activation = 'relu',solver='adam',random_state=1)\n",
    "mlp.fit(train_features, y_train)\n",
    "y_pred = mlp.predict(dev_features) \n",
    "print(classification_report(y_dev, y_pred,digits=2))"
   ]
  },
  {
   "cell_type": "code",
   "execution_count": 46,
   "metadata": {
    "execution": {
     "iopub.execute_input": "2021-06-22T06:26:52.289593Z",
     "iopub.status.busy": "2021-06-22T06:26:52.288911Z",
     "iopub.status.idle": "2021-06-22T06:26:55.294198Z",
     "shell.execute_reply": "2021-06-22T06:26:55.292875Z",
     "shell.execute_reply.started": "2021-06-22T06:26:52.289544Z"
    }
   },
   "outputs": [
    {
     "name": "stdout",
     "output_type": "stream",
     "text": [
      "1962\n"
     ]
    },
    {
     "data": {
      "text/html": [
       "<div>\n",
       "<style scoped>\n",
       "    .dataframe tbody tr th:only-of-type {\n",
       "        vertical-align: middle;\n",
       "    }\n",
       "\n",
       "    .dataframe tbody tr th {\n",
       "        vertical-align: top;\n",
       "    }\n",
       "\n",
       "    .dataframe thead th {\n",
       "        text-align: right;\n",
       "    }\n",
       "</style>\n",
       "<table border=\"1\" class=\"dataframe\">\n",
       "  <thead>\n",
       "    <tr style=\"text-align: right;\">\n",
       "      <th></th>\n",
       "      <th>id</th>\n",
       "      <th>text</th>\n",
       "      <th>label</th>\n",
       "    </tr>\n",
       "  </thead>\n",
       "  <tbody>\n",
       "    <tr>\n",
       "      <th>0</th>\n",
       "      <td>Mal_1</td>\n",
       "      <td>Teaserinu kurach samayamkoodi mathram. Cant wa...</td>\n",
       "      <td>unknown_state</td>\n",
       "    </tr>\n",
       "    <tr>\n",
       "      <th>1</th>\n",
       "      <td>Mal_2</td>\n",
       "      <td>അപ്പോൾ കഥയുടെ  റൂട്ട് മാറിയല്ലോ...</td>\n",
       "      <td>Positive</td>\n",
       "    </tr>\n",
       "    <tr>\n",
       "      <th>2</th>\n",
       "      <td>Mal_3</td>\n",
       "      <td>മൂത്തോൻ ട്രൈലെർ Trending List വരാത്തത് എന്താ ?</td>\n",
       "      <td>Positive</td>\n",
       "    </tr>\n",
       "    <tr>\n",
       "      <th>3</th>\n",
       "      <td>Mal_4</td>\n",
       "      <td>Nowadays 944k views is considered as 1M views ...</td>\n",
       "      <td>not-malayalam</td>\n",
       "    </tr>\n",
       "    <tr>\n",
       "      <th>4</th>\n",
       "      <td>Mal_5</td>\n",
       "      <td>Maass.trailer ennu paranja ithaanU makkale.......</td>\n",
       "      <td>Positive</td>\n",
       "    </tr>\n",
       "  </tbody>\n",
       "</table>\n",
       "</div>"
      ],
      "text/plain": [
       "      id                                               text          label\n",
       "0  Mal_1  Teaserinu kurach samayamkoodi mathram. Cant wa...  unknown_state\n",
       "1  Mal_2                 അപ്പോൾ കഥയുടെ  റൂട്ട് മാറിയല്ലോ...       Positive\n",
       "2  Mal_3     മൂത്തോൻ ട്രൈലെർ Trending List വരാത്തത് എന്താ ?       Positive\n",
       "3  Mal_4  Nowadays 944k views is considered as 1M views ...  not-malayalam\n",
       "4  Mal_5  Maass.trailer ennu paranja ithaanU makkale.......       Positive"
      ]
     },
     "execution_count": 46,
     "metadata": {},
     "output_type": "execute_result"
    }
   ],
   "source": [
    "y_pred = mlp.predict(test_features)\n",
    "test1=test\n",
    "test1['label']=y_pred\n",
    "test1=test1.drop(['cleaned'],axis=1)\n",
    "test1.to_csv(lang+'_mlp_syllabel.tsv',sep='\\t')\n",
    "print(len(test1))\n",
    "test1.head()\n"
   ]
  },
  {
   "cell_type": "code",
   "execution_count": 47,
   "metadata": {},
   "outputs": [
    {
     "name": "stderr",
     "output_type": "stream",
     "text": [
      "/home/vijay/Desktop/notebook/jupyterenv/lib/python3.8/site-packages/sklearn/linear_model/_logistic.py:763: ConvergenceWarning: lbfgs failed to converge (status=1):\n",
      "STOP: TOTAL NO. of ITERATIONS REACHED LIMIT.\n",
      "\n",
      "Increase the number of iterations (max_iter) or scale the data as shown in:\n",
      "    https://scikit-learn.org/stable/modules/preprocessing.html\n",
      "Please also refer to the documentation for alternative solver options:\n",
      "    https://scikit-learn.org/stable/modules/linear_model.html#logistic-regression\n",
      "  n_iter_i = _check_optimize_result(\n"
     ]
    },
    {
     "name": "stdout",
     "output_type": "stream",
     "text": [
      "                precision    recall  f1-score   support\n",
      "\n",
      "Mixed_feelings     0.5588    0.3725    0.4471       102\n",
      "      Negative     0.6881    0.5865    0.6333       237\n",
      "      Positive     0.7516    0.8399    0.7933       706\n",
      " not-malayalam     0.8071    0.8014    0.8043       141\n",
      " unknown_state     0.7231    0.7069    0.7149       580\n",
      "\n",
      "      accuracy                         0.7322      1766\n",
      "     macro avg     0.7058    0.6615    0.6786      1766\n",
      "  weighted avg     0.7270    0.7322    0.7270      1766\n",
      "\n"
     ]
    }
   ],
   "source": [
    "from sklearn.ensemble import VotingClassifier\n",
    "from sklearn.neural_network import MLPClassifier\n",
    "from sklearn.linear_model import LogisticRegression\n",
    "from sklearn.svm import LinearSVC,SVC\n",
    "from sklearn.metrics import accuracy_score, confusion_matrix, classification_report, f1_score\n",
    "from sklearn.multiclass import OneVsRestClassifier\n",
    "import xgboost as xgb\n",
    "from sklearn.linear_model import SGDClassifier\n",
    "\n",
    "\n",
    "\n",
    "#mnb=MultinomialNB()\n",
    "mlp=MLPClassifier(hidden_layer_sizes=(150,100,50), max_iter=300,activation = 'relu',solver='adam',random_state=1)\n",
    "xgb_clf=SVC(kernel='linear',probability=True)\n",
    "lr=LogisticRegression()\n",
    "estimators=[('lr', lr), ('mlp', mlp),('xgb', xgb_clf)]\n",
    "clf = VotingClassifier(estimators, voting='soft')\n",
    "ensemble =clf\n",
    "\n",
    "\n",
    "ensemble.fit(train_features, y_train)\n",
    "\n",
    "y_pred = ensemble.predict(dev_features) \n",
    "print(classification_report(y_dev, y_pred,digits=4))\n",
    "\n"
   ]
  },
  {
   "cell_type": "code",
   "execution_count": 48,
   "metadata": {},
   "outputs": [
    {
     "name": "stdout",
     "output_type": "stream",
     "text": [
      "1962\n"
     ]
    },
    {
     "data": {
      "text/html": [
       "<div>\n",
       "<style scoped>\n",
       "    .dataframe tbody tr th:only-of-type {\n",
       "        vertical-align: middle;\n",
       "    }\n",
       "\n",
       "    .dataframe tbody tr th {\n",
       "        vertical-align: top;\n",
       "    }\n",
       "\n",
       "    .dataframe thead th {\n",
       "        text-align: right;\n",
       "    }\n",
       "</style>\n",
       "<table border=\"1\" class=\"dataframe\">\n",
       "  <thead>\n",
       "    <tr style=\"text-align: right;\">\n",
       "      <th></th>\n",
       "      <th>id</th>\n",
       "      <th>text</th>\n",
       "      <th>label</th>\n",
       "    </tr>\n",
       "  </thead>\n",
       "  <tbody>\n",
       "    <tr>\n",
       "      <th>0</th>\n",
       "      <td>Mal_1</td>\n",
       "      <td>Teaserinu kurach samayamkoodi mathram. Cant wa...</td>\n",
       "      <td>unknown_state</td>\n",
       "    </tr>\n",
       "    <tr>\n",
       "      <th>1</th>\n",
       "      <td>Mal_2</td>\n",
       "      <td>അപ്പോൾ കഥയുടെ  റൂട്ട് മാറിയല്ലോ...</td>\n",
       "      <td>Positive</td>\n",
       "    </tr>\n",
       "    <tr>\n",
       "      <th>2</th>\n",
       "      <td>Mal_3</td>\n",
       "      <td>മൂത്തോൻ ട്രൈലെർ Trending List വരാത്തത് എന്താ ?</td>\n",
       "      <td>Positive</td>\n",
       "    </tr>\n",
       "    <tr>\n",
       "      <th>3</th>\n",
       "      <td>Mal_4</td>\n",
       "      <td>Nowadays 944k views is considered as 1M views ...</td>\n",
       "      <td>not-malayalam</td>\n",
       "    </tr>\n",
       "    <tr>\n",
       "      <th>4</th>\n",
       "      <td>Mal_5</td>\n",
       "      <td>Maass.trailer ennu paranja ithaanU makkale.......</td>\n",
       "      <td>Positive</td>\n",
       "    </tr>\n",
       "  </tbody>\n",
       "</table>\n",
       "</div>"
      ],
      "text/plain": [
       "      id                                               text          label\n",
       "0  Mal_1  Teaserinu kurach samayamkoodi mathram. Cant wa...  unknown_state\n",
       "1  Mal_2                 അപ്പോൾ കഥയുടെ  റൂട്ട് മാറിയല്ലോ...       Positive\n",
       "2  Mal_3     മൂത്തോൻ ട്രൈലെർ Trending List വരാത്തത് എന്താ ?       Positive\n",
       "3  Mal_4  Nowadays 944k views is considered as 1M views ...  not-malayalam\n",
       "4  Mal_5  Maass.trailer ennu paranja ithaanU makkale.......       Positive"
      ]
     },
     "execution_count": 48,
     "metadata": {},
     "output_type": "execute_result"
    }
   ],
   "source": [
    "y_pred = ensemble.predict(test_features)\n",
    "test1=test\n",
    "test1['label']=y_pred\n",
    "test1=test1.drop(['cleaned'],axis=1)\n",
    "test1.to_csv(lang+'_ensemble_charSeq.tsv',sep='\\t')\n",
    "print(len(test1))\n",
    "test1.head()\n"
   ]
  },
  {
   "cell_type": "code",
   "execution_count": null,
   "metadata": {},
   "outputs": [],
   "source": []
  },
  {
   "cell_type": "code",
   "execution_count": 49,
   "metadata": {},
   "outputs": [],
   "source": [
    "##char Sequences"
   ]
  },
  {
   "cell_type": "code",
   "execution_count": 50,
   "metadata": {},
   "outputs": [],
   "source": [
    "from nltk import everygrams\n",
    "\n",
    "def ngram_extractor(sent):\n",
    "    return [''.join(ng) for ng in everygrams(sent.replace(' ', '_ _'), 1, 6) \n",
    "            if ' ' not in ng and '\\n' not in ng and ng != ('_',)]\n",
    "\n",
    "\n",
    "\n",
    "import os\n",
    "import numpy\n",
    "import pandas as pd\n",
    "import re\n",
    "import glob\n",
    "from nltk.tokenize import word_tokenize\n",
    "from nltk import FreqDist\n",
    "from nltk import trigrams\n",
    "from nltk import bigrams\n",
    "from nltk import ngrams\n",
    "from nltk.collections import defaultdict\n",
    "#from nltk.classify.scikitlearn import SklearnClassifier\n",
    "from sklearn.linear_model import LogisticRegression\n",
    "#from gensim.models import KeyedVectors\n",
    "from collections import Counter \n",
    "from nltk.classify.util import accuracy\n",
    "from sklearn.metrics import precision_score, recall_score, f1_score, classification_report,accuracy_score\n",
    "import pandas as pd\n",
    "import nltk\n",
    "#import gensim\n",
    "#import collections\n",
    "\n",
    "import unicodedata\n",
    "#from string import punctuation\n",
    "#from nltk.tokenize import WhitespaceTokenizer\n",
    "from nltk import ngrams\n",
    "from operator import itemgetter # The operator module exports a set of efficient functions corresponding to the intrinsic operators of Python. For example, operator.add(x, y) is equivalent to the expression x + y.\n",
    "\n",
    "\n",
    "def get_word_ngrams(tokens, n):\n",
    "    ngrams_list = []\n",
    "    ngrams_list.append(list(ngrams(tokens, n)))\n",
    "    ngrams_flat_tuples = [ngram for ngram_list in ngrams_list for ngram in ngram_list]\n",
    "    format_string = '%s'\n",
    "    for i in range(1, n):\n",
    "        format_string += (' %s')\n",
    "    ngrams_list_flat = [format_string % ngram_tuple for ngram_tuple in ngrams_flat_tuples]\n",
    "    return ngrams_list_flat\n",
    "\n",
    "def get_char_ngrams(word, n):\n",
    "    ngrams_list = []\n",
    "    word = re.sub(r'ς', 'σ', word)\n",
    "    ngrams_list.append(list(ngrams(word, n, pad_left=True, pad_right=True, left_pad_symbol='_', right_pad_symbol='_')))\n",
    "    \n",
    "    # Removing redundant ngrams:\n",
    "    if (n > 2):\n",
    "        redundant_combinations = n - 2\n",
    "        ngrams_list = [ngram_list[redundant_combinations : -redundant_combinations] for ngram_list in ngrams_list]\n",
    "    \n",
    "    ngrams_flat_tuples = [ngram for ngram_list in ngrams_list for ngram in ngram_list]\n",
    "    format_string = ''\n",
    "    for i in range(0, n):\n",
    "        format_string += ('%s')\n",
    "    ngrams_list_flat = [format_string % ngram_tuple for ngram_tuple in ngrams_flat_tuples]\n",
    "    return ngrams_list_flat\n",
    "\n",
    "# Feature extractor\n",
    "def get_ngram_features(sent): # The reason I do not use NLTK's everygrams to extract the features quickly is because the behavior of my n-gram extractor is modified to remove redundant n-grams. Also, I need to label word and char n-grams to avoid ambiguity\n",
    "  sent=sent.lower()\n",
    "  sentence_tokens = sent.split(' ')\n",
    "\n",
    "\n",
    "  freq_4grams = {}\n",
    "  '''SNgram_obj=SNgramExtractor(sent,meta_tag='original',trigram_flag='yes',nlp_model=None)\n",
    "  output=SNgram_obj.get_SNgram()'''\n",
    "\n",
    "  # Word snbigrams\n",
    "  ngrams = get_word_ngrams(sentence_tokens, 1)\n",
    "  \n",
    "  for ngram in ngrams:\n",
    "    if ngram not in freq_4grams:\n",
    "      freq_4grams.update({ngram:1})\n",
    "  '''for word in sentence_tokens:\n",
    "    ngrams=get_char_ngrams(word,2)\n",
    "    for ngram in ngrams: \n",
    "        if ngram not in freq_4grams: \n",
    "            freq_4grams.update({ngram:1})'''\n",
    "    \n",
    "  '''# Word snTrigrams\n",
    "  ngrams = get_word_ngrams(sentence_tokens, 3)\n",
    "  \n",
    "  for ngram in ngrams:\n",
    "    if ngram not in freq_4grams:\n",
    "      freq_4grams.update({ngram:1})'''\n",
    "\n",
    "  ngrams = ngram_extractor(sent)\n",
    "  ngrams=[remove_(t) for t in ngrams]\n",
    "\n",
    "  #freq_4grams = {}\n",
    "\n",
    "  for ngram in ngrams:\n",
    "    if ngram not in freq_4grams:\n",
    "        freq_4grams.update({ngram: 1})\n",
    "    else:\n",
    "        ngram_occurrences = freq_4grams[ngram]\n",
    "        freq_4grams.update({ngram: ngram_occurrences + 1})\n",
    "        \n",
    "\n",
    "  freq_4grams_sorted = sorted(freq_4grams.items(), key=itemgetter(1), reverse=True)#[0:300] # We only keep the 300 most popular n-grams. This was suggested in the original paper written about n-grams.\n",
    "  \n",
    "   \n",
    "\n",
    "    \n",
    "  return list(dict(freq_4grams_sorted).keys())\n",
    "def remove_(t):\n",
    "  if t[0]=='_':t=t[1:]\n",
    "  if t[-1]=='_':t=t[:-1]\n",
    "  return t\n",
    "\n",
    "train_set_sents = train.cleaned\n",
    "y_train = train.category\n",
    "dev_set_sents =dev.cleaned\n",
    "y_dev = dev.category\n",
    "test_set_sents=test.cleaned"
   ]
  },
  {
   "cell_type": "code",
   "execution_count": 54,
   "metadata": {},
   "outputs": [],
   "source": [
    "from sklearn.feature_extraction.text import CountVectorizer,TfidfVectorizer\n",
    "\n",
    "count_vect = TfidfVectorizer(analyzer=get_ngram_features)\n",
    "\n",
    "train_features = count_vect.fit_transform(train_set_sents)\n",
    "dev_features = count_vect.transform(dev_set_sents)\n",
    "test_features = count_vect.transform(test_set_sents)\n"
   ]
  },
  {
   "cell_type": "code",
   "execution_count": 55,
   "metadata": {},
   "outputs": [
    {
     "name": "stdout",
     "output_type": "stream",
     "text": [
      "                precision    recall  f1-score   support\n",
      "\n",
      "Mixed_feelings       0.46      0.38      0.42       102\n",
      "      Negative       0.70      0.57      0.63       237\n",
      "      Positive       0.77      0.83      0.80       706\n",
      " not-malayalam       0.81      0.81      0.81       141\n",
      " unknown_state       0.73      0.73      0.73       580\n",
      "\n",
      "      accuracy                           0.74      1766\n",
      "     macro avg       0.69      0.67      0.68      1766\n",
      "  weighted avg       0.73      0.74      0.73      1766\n",
      "\n"
     ]
    },
    {
     "name": "stderr",
     "output_type": "stream",
     "text": [
      "/home/vijay/Desktop/notebook/jupyterenv/lib/python3.8/site-packages/sklearn/linear_model/_logistic.py:763: ConvergenceWarning: lbfgs failed to converge (status=1):\n",
      "STOP: TOTAL NO. of ITERATIONS REACHED LIMIT.\n",
      "\n",
      "Increase the number of iterations (max_iter) or scale the data as shown in:\n",
      "    https://scikit-learn.org/stable/modules/preprocessing.html\n",
      "Please also refer to the documentation for alternative solver options:\n",
      "    https://scikit-learn.org/stable/modules/linear_model.html#logistic-regression\n",
      "  n_iter_i = _check_optimize_result(\n"
     ]
    }
   ],
   "source": [
    "from sklearn.ensemble import VotingClassifier\n",
    "from sklearn.linear_model import LogisticRegression\n",
    "from sklearn.svm import LinearSVC,SVC\n",
    "from sklearn.metrics import accuracy_score, confusion_matrix, classification_report, f1_score\n",
    "\n",
    "\n",
    "lr=LogisticRegression(C=50)\n",
    "lr.fit(train_features, y_train)\n",
    "y_pred = lr.predict(dev_features) \n",
    "print(classification_report(y_dev, y_pred,digits=2))"
   ]
  },
  {
   "cell_type": "code",
   "execution_count": 56,
   "metadata": {},
   "outputs": [
    {
     "name": "stdout",
     "output_type": "stream",
     "text": [
      "1962\n"
     ]
    },
    {
     "data": {
      "text/html": [
       "<div>\n",
       "<style scoped>\n",
       "    .dataframe tbody tr th:only-of-type {\n",
       "        vertical-align: middle;\n",
       "    }\n",
       "\n",
       "    .dataframe tbody tr th {\n",
       "        vertical-align: top;\n",
       "    }\n",
       "\n",
       "    .dataframe thead th {\n",
       "        text-align: right;\n",
       "    }\n",
       "</style>\n",
       "<table border=\"1\" class=\"dataframe\">\n",
       "  <thead>\n",
       "    <tr style=\"text-align: right;\">\n",
       "      <th></th>\n",
       "      <th>id</th>\n",
       "      <th>text</th>\n",
       "      <th>label</th>\n",
       "    </tr>\n",
       "  </thead>\n",
       "  <tbody>\n",
       "    <tr>\n",
       "      <th>0</th>\n",
       "      <td>Mal_1</td>\n",
       "      <td>Teaserinu kurach samayamkoodi mathram. Cant wa...</td>\n",
       "      <td>unknown_state</td>\n",
       "    </tr>\n",
       "    <tr>\n",
       "      <th>1</th>\n",
       "      <td>Mal_2</td>\n",
       "      <td>അപ്പോൾ കഥയുടെ  റൂട്ട് മാറിയല്ലോ...</td>\n",
       "      <td>Positive</td>\n",
       "    </tr>\n",
       "    <tr>\n",
       "      <th>2</th>\n",
       "      <td>Mal_3</td>\n",
       "      <td>മൂത്തോൻ ട്രൈലെർ Trending List വരാത്തത് എന്താ ?</td>\n",
       "      <td>Positive</td>\n",
       "    </tr>\n",
       "    <tr>\n",
       "      <th>3</th>\n",
       "      <td>Mal_4</td>\n",
       "      <td>Nowadays 944k views is considered as 1M views ...</td>\n",
       "      <td>not-malayalam</td>\n",
       "    </tr>\n",
       "    <tr>\n",
       "      <th>4</th>\n",
       "      <td>Mal_5</td>\n",
       "      <td>Maass.trailer ennu paranja ithaanU makkale.......</td>\n",
       "      <td>Positive</td>\n",
       "    </tr>\n",
       "  </tbody>\n",
       "</table>\n",
       "</div>"
      ],
      "text/plain": [
       "      id                                               text          label\n",
       "0  Mal_1  Teaserinu kurach samayamkoodi mathram. Cant wa...  unknown_state\n",
       "1  Mal_2                 അപ്പോൾ കഥയുടെ  റൂട്ട് മാറിയല്ലോ...       Positive\n",
       "2  Mal_3     മൂത്തോൻ ട്രൈലെർ Trending List വരാത്തത് എന്താ ?       Positive\n",
       "3  Mal_4  Nowadays 944k views is considered as 1M views ...  not-malayalam\n",
       "4  Mal_5  Maass.trailer ennu paranja ithaanU makkale.......       Positive"
      ]
     },
     "execution_count": 56,
     "metadata": {},
     "output_type": "execute_result"
    }
   ],
   "source": [
    "y_pred = lr.predict(test_features)\n",
    "test1=test\n",
    "test1['label']=y_pred\n",
    "test1=test1.drop(['cleaned'],axis=1)\n",
    "test1.to_csv(lang+'_lr_charSeq.tsv',sep='\\t')\n",
    "print(len(test1))\n",
    "test1.head()\n"
   ]
  },
  {
   "cell_type": "code",
   "execution_count": 57,
   "metadata": {},
   "outputs": [
    {
     "name": "stdout",
     "output_type": "stream",
     "text": [
      "                precision    recall  f1-score   support\n",
      "\n",
      "Mixed_feelings       0.60      0.31      0.41       102\n",
      "      Negative       0.72      0.57      0.64       237\n",
      "      Positive       0.75      0.86      0.80       706\n",
      " not-malayalam       0.85      0.83      0.84       141\n",
      " unknown_state       0.74      0.75      0.74       580\n",
      "\n",
      "      accuracy                           0.75      1766\n",
      "     macro avg       0.73      0.66      0.69      1766\n",
      "  weighted avg       0.74      0.75      0.74      1766\n",
      "\n"
     ]
    }
   ],
   "source": [
    "svm_clf=SVC(kernel='linear',probability=True)\n",
    "svm_clf.fit(train_features, y_train)\n",
    "y_pred = svm_clf.predict(dev_features)\n",
    "print(classification_report(y_dev, y_pred))"
   ]
  },
  {
   "cell_type": "code",
   "execution_count": 58,
   "metadata": {},
   "outputs": [
    {
     "name": "stdout",
     "output_type": "stream",
     "text": [
      "1962\n"
     ]
    },
    {
     "data": {
      "text/html": [
       "<div>\n",
       "<style scoped>\n",
       "    .dataframe tbody tr th:only-of-type {\n",
       "        vertical-align: middle;\n",
       "    }\n",
       "\n",
       "    .dataframe tbody tr th {\n",
       "        vertical-align: top;\n",
       "    }\n",
       "\n",
       "    .dataframe thead th {\n",
       "        text-align: right;\n",
       "    }\n",
       "</style>\n",
       "<table border=\"1\" class=\"dataframe\">\n",
       "  <thead>\n",
       "    <tr style=\"text-align: right;\">\n",
       "      <th></th>\n",
       "      <th>id</th>\n",
       "      <th>text</th>\n",
       "      <th>label</th>\n",
       "    </tr>\n",
       "  </thead>\n",
       "  <tbody>\n",
       "    <tr>\n",
       "      <th>0</th>\n",
       "      <td>Mal_1</td>\n",
       "      <td>Teaserinu kurach samayamkoodi mathram. Cant wa...</td>\n",
       "      <td>unknown_state</td>\n",
       "    </tr>\n",
       "    <tr>\n",
       "      <th>1</th>\n",
       "      <td>Mal_2</td>\n",
       "      <td>അപ്പോൾ കഥയുടെ  റൂട്ട് മാറിയല്ലോ...</td>\n",
       "      <td>unknown_state</td>\n",
       "    </tr>\n",
       "    <tr>\n",
       "      <th>2</th>\n",
       "      <td>Mal_3</td>\n",
       "      <td>മൂത്തോൻ ട്രൈലെർ Trending List വരാത്തത് എന്താ ?</td>\n",
       "      <td>Positive</td>\n",
       "    </tr>\n",
       "    <tr>\n",
       "      <th>3</th>\n",
       "      <td>Mal_4</td>\n",
       "      <td>Nowadays 944k views is considered as 1M views ...</td>\n",
       "      <td>not-malayalam</td>\n",
       "    </tr>\n",
       "    <tr>\n",
       "      <th>4</th>\n",
       "      <td>Mal_5</td>\n",
       "      <td>Maass.trailer ennu paranja ithaanU makkale.......</td>\n",
       "      <td>Positive</td>\n",
       "    </tr>\n",
       "  </tbody>\n",
       "</table>\n",
       "</div>"
      ],
      "text/plain": [
       "      id                                               text          label\n",
       "0  Mal_1  Teaserinu kurach samayamkoodi mathram. Cant wa...  unknown_state\n",
       "1  Mal_2                 അപ്പോൾ കഥയുടെ  റൂട്ട് മാറിയല്ലോ...  unknown_state\n",
       "2  Mal_3     മൂത്തോൻ ട്രൈലെർ Trending List വരാത്തത് എന്താ ?       Positive\n",
       "3  Mal_4  Nowadays 944k views is considered as 1M views ...  not-malayalam\n",
       "4  Mal_5  Maass.trailer ennu paranja ithaanU makkale.......       Positive"
      ]
     },
     "execution_count": 58,
     "metadata": {},
     "output_type": "execute_result"
    }
   ],
   "source": [
    "y_pred = svm_clf.predict(test_features)\n",
    "test1=test\n",
    "test1['label']=y_pred\n",
    "test1=test1.drop(['cleaned'],axis=1)\n",
    "test1.to_csv(lang+'_lsvc_charSeq.tsv',sep='\\t')\n",
    "print(len(test1))\n",
    "test1.head()\n"
   ]
  },
  {
   "cell_type": "code",
   "execution_count": 59,
   "metadata": {},
   "outputs": [
    {
     "name": "stdout",
     "output_type": "stream",
     "text": [
      "                precision    recall  f1-score   support\n",
      "\n",
      "Mixed_feelings       0.41      0.35      0.38       102\n",
      "      Negative       0.60      0.56      0.58       237\n",
      "      Positive       0.74      0.80      0.77       706\n",
      " not-malayalam       0.72      0.78      0.75       141\n",
      " unknown_state       0.70      0.65      0.68       580\n",
      "\n",
      "      accuracy                           0.69      1766\n",
      "     macro avg       0.63      0.63      0.63      1766\n",
      "  weighted avg       0.69      0.69      0.69      1766\n",
      "\n"
     ]
    }
   ],
   "source": [
    "from sklearn.neural_network import MLPClassifier\n",
    "mlp=MLPClassifier(hidden_layer_sizes=(150,100,50), max_iter=300,activation = 'relu',solver='adam',random_state=1)\n",
    "mlp.fit(train_features, y_train)\n",
    "y_pred = mlp.predict(dev_features) \n",
    "print(classification_report(y_dev, y_pred,digits=2))"
   ]
  },
  {
   "cell_type": "code",
   "execution_count": 60,
   "metadata": {},
   "outputs": [
    {
     "name": "stdout",
     "output_type": "stream",
     "text": [
      "1962\n"
     ]
    },
    {
     "data": {
      "text/html": [
       "<div>\n",
       "<style scoped>\n",
       "    .dataframe tbody tr th:only-of-type {\n",
       "        vertical-align: middle;\n",
       "    }\n",
       "\n",
       "    .dataframe tbody tr th {\n",
       "        vertical-align: top;\n",
       "    }\n",
       "\n",
       "    .dataframe thead th {\n",
       "        text-align: right;\n",
       "    }\n",
       "</style>\n",
       "<table border=\"1\" class=\"dataframe\">\n",
       "  <thead>\n",
       "    <tr style=\"text-align: right;\">\n",
       "      <th></th>\n",
       "      <th>id</th>\n",
       "      <th>text</th>\n",
       "      <th>label</th>\n",
       "    </tr>\n",
       "  </thead>\n",
       "  <tbody>\n",
       "    <tr>\n",
       "      <th>0</th>\n",
       "      <td>Mal_1</td>\n",
       "      <td>Teaserinu kurach samayamkoodi mathram. Cant wa...</td>\n",
       "      <td>not-malayalam</td>\n",
       "    </tr>\n",
       "    <tr>\n",
       "      <th>1</th>\n",
       "      <td>Mal_2</td>\n",
       "      <td>അപ്പോൾ കഥയുടെ  റൂട്ട് മാറിയല്ലോ...</td>\n",
       "      <td>Positive</td>\n",
       "    </tr>\n",
       "    <tr>\n",
       "      <th>2</th>\n",
       "      <td>Mal_3</td>\n",
       "      <td>മൂത്തോൻ ട്രൈലെർ Trending List വരാത്തത് എന്താ ?</td>\n",
       "      <td>Negative</td>\n",
       "    </tr>\n",
       "    <tr>\n",
       "      <th>3</th>\n",
       "      <td>Mal_4</td>\n",
       "      <td>Nowadays 944k views is considered as 1M views ...</td>\n",
       "      <td>not-malayalam</td>\n",
       "    </tr>\n",
       "    <tr>\n",
       "      <th>4</th>\n",
       "      <td>Mal_5</td>\n",
       "      <td>Maass.trailer ennu paranja ithaanU makkale.......</td>\n",
       "      <td>Positive</td>\n",
       "    </tr>\n",
       "  </tbody>\n",
       "</table>\n",
       "</div>"
      ],
      "text/plain": [
       "      id                                               text          label\n",
       "0  Mal_1  Teaserinu kurach samayamkoodi mathram. Cant wa...  not-malayalam\n",
       "1  Mal_2                 അപ്പോൾ കഥയുടെ  റൂട്ട് മാറിയല്ലോ...       Positive\n",
       "2  Mal_3     മൂത്തോൻ ട്രൈലെർ Trending List വരാത്തത് എന്താ ?       Negative\n",
       "3  Mal_4  Nowadays 944k views is considered as 1M views ...  not-malayalam\n",
       "4  Mal_5  Maass.trailer ennu paranja ithaanU makkale.......       Positive"
      ]
     },
     "execution_count": 60,
     "metadata": {},
     "output_type": "execute_result"
    }
   ],
   "source": [
    "y_pred = mlp.predict(test_features)\n",
    "test1=test\n",
    "test1['label']=y_pred\n",
    "test1=test1.drop(['cleaned'],axis=1)\n",
    "test1.to_csv(lang+'_mlp_charSeq.tsv',sep='\\t')\n",
    "print(len(test1))\n",
    "test1.head()\n"
   ]
  },
  {
   "cell_type": "code",
   "execution_count": 61,
   "metadata": {},
   "outputs": [
    {
     "name": "stderr",
     "output_type": "stream",
     "text": [
      "/home/vijay/Desktop/notebook/jupyterenv/lib/python3.8/site-packages/sklearn/linear_model/_logistic.py:763: ConvergenceWarning: lbfgs failed to converge (status=1):\n",
      "STOP: TOTAL NO. of ITERATIONS REACHED LIMIT.\n",
      "\n",
      "Increase the number of iterations (max_iter) or scale the data as shown in:\n",
      "    https://scikit-learn.org/stable/modules/preprocessing.html\n",
      "Please also refer to the documentation for alternative solver options:\n",
      "    https://scikit-learn.org/stable/modules/linear_model.html#logistic-regression\n",
      "  n_iter_i = _check_optimize_result(\n"
     ]
    },
    {
     "name": "stdout",
     "output_type": "stream",
     "text": [
      "                precision    recall  f1-score   support\n",
      "\n",
      "Mixed_feelings     0.4684    0.3627    0.4088       102\n",
      "      Negative     0.6749    0.5781    0.6227       237\n",
      "      Positive     0.7554    0.8357    0.7935       706\n",
      " not-malayalam     0.7842    0.7730    0.7786       141\n",
      " unknown_state     0.7287    0.7086    0.7185       580\n",
      "\n",
      "      accuracy                         0.7271      1766\n",
      "     macro avg     0.6823    0.6516    0.6644      1766\n",
      "  weighted avg     0.7216    0.7271    0.7226      1766\n",
      "\n"
     ]
    }
   ],
   "source": [
    "from sklearn.ensemble import VotingClassifier\n",
    "from sklearn.neural_network import MLPClassifier\n",
    "from sklearn.linear_model import LogisticRegression\n",
    "from sklearn.svm import LinearSVC,SVC\n",
    "from sklearn.metrics import accuracy_score, confusion_matrix, classification_report, f1_score\n",
    "from sklearn.multiclass import OneVsRestClassifier\n",
    "import xgboost as xgb\n",
    "from sklearn.linear_model import SGDClassifier\n",
    "\n",
    "\n",
    "\n",
    "#mnb=MultinomialNB()\n",
    "mlp=MLPClassifier(hidden_layer_sizes=(150,100,50), max_iter=300,activation = 'relu',solver='adam',random_state=1)\n",
    "xgb_clf=SVC(kernel='linear',probability=True)\n",
    "lr=LogisticRegression()\n",
    "estimators=[('lr', lr), ('mlp', mlp),('xgb', xgb_clf)]\n",
    "clf = VotingClassifier(estimators, voting='soft')\n",
    "ensemble =clf\n",
    "\n",
    "\n",
    "ensemble.fit(train_features, y_train)\n",
    "\n",
    "y_pred = ensemble.predict(dev_features) \n",
    "print(classification_report(y_dev, y_pred,digits=4))"
   ]
  },
  {
   "cell_type": "code",
   "execution_count": 62,
   "metadata": {},
   "outputs": [
    {
     "name": "stdout",
     "output_type": "stream",
     "text": [
      "1962\n"
     ]
    },
    {
     "data": {
      "text/html": [
       "<div>\n",
       "<style scoped>\n",
       "    .dataframe tbody tr th:only-of-type {\n",
       "        vertical-align: middle;\n",
       "    }\n",
       "\n",
       "    .dataframe tbody tr th {\n",
       "        vertical-align: top;\n",
       "    }\n",
       "\n",
       "    .dataframe thead th {\n",
       "        text-align: right;\n",
       "    }\n",
       "</style>\n",
       "<table border=\"1\" class=\"dataframe\">\n",
       "  <thead>\n",
       "    <tr style=\"text-align: right;\">\n",
       "      <th></th>\n",
       "      <th>id</th>\n",
       "      <th>text</th>\n",
       "      <th>label</th>\n",
       "    </tr>\n",
       "  </thead>\n",
       "  <tbody>\n",
       "    <tr>\n",
       "      <th>0</th>\n",
       "      <td>Mal_1</td>\n",
       "      <td>Teaserinu kurach samayamkoodi mathram. Cant wa...</td>\n",
       "      <td>unknown_state</td>\n",
       "    </tr>\n",
       "    <tr>\n",
       "      <th>1</th>\n",
       "      <td>Mal_2</td>\n",
       "      <td>അപ്പോൾ കഥയുടെ  റൂട്ട് മാറിയല്ലോ...</td>\n",
       "      <td>Positive</td>\n",
       "    </tr>\n",
       "    <tr>\n",
       "      <th>2</th>\n",
       "      <td>Mal_3</td>\n",
       "      <td>മൂത്തോൻ ട്രൈലെർ Trending List വരാത്തത് എന്താ ?</td>\n",
       "      <td>Positive</td>\n",
       "    </tr>\n",
       "    <tr>\n",
       "      <th>3</th>\n",
       "      <td>Mal_4</td>\n",
       "      <td>Nowadays 944k views is considered as 1M views ...</td>\n",
       "      <td>not-malayalam</td>\n",
       "    </tr>\n",
       "    <tr>\n",
       "      <th>4</th>\n",
       "      <td>Mal_5</td>\n",
       "      <td>Maass.trailer ennu paranja ithaanU makkale.......</td>\n",
       "      <td>Positive</td>\n",
       "    </tr>\n",
       "  </tbody>\n",
       "</table>\n",
       "</div>"
      ],
      "text/plain": [
       "      id                                               text          label\n",
       "0  Mal_1  Teaserinu kurach samayamkoodi mathram. Cant wa...  unknown_state\n",
       "1  Mal_2                 അപ്പോൾ കഥയുടെ  റൂട്ട് മാറിയല്ലോ...       Positive\n",
       "2  Mal_3     മൂത്തോൻ ട്രൈലെർ Trending List വരാത്തത് എന്താ ?       Positive\n",
       "3  Mal_4  Nowadays 944k views is considered as 1M views ...  not-malayalam\n",
       "4  Mal_5  Maass.trailer ennu paranja ithaanU makkale.......       Positive"
      ]
     },
     "execution_count": 62,
     "metadata": {},
     "output_type": "execute_result"
    }
   ],
   "source": [
    "y_pred = ensemble.predict(test_features)\n",
    "test1=test\n",
    "test1['label']=y_pred\n",
    "test1=test1.drop(['cleaned'],axis=1)\n",
    "test1.to_csv(lang+'_ensemble_charSeq.tsv',sep='\\t')\n",
    "print(len(test1))\n",
    "test1.head()\n"
   ]
  },
  {
   "cell_type": "code",
   "execution_count": null,
   "metadata": {},
   "outputs": [],
   "source": []
  },
  {
   "cell_type": "code",
   "execution_count": null,
   "metadata": {},
   "outputs": [],
   "source": []
  }
 ],
 "metadata": {
  "kernelspec": {
   "display_name": "Python 3",
   "language": "python",
   "name": "python3"
  },
  "language_info": {
   "codemirror_mode": {
    "name": "ipython",
    "version": 3
   },
   "file_extension": ".py",
   "mimetype": "text/x-python",
   "name": "python",
   "nbconvert_exporter": "python",
   "pygments_lexer": "ipython3",
   "version": "3.7.3"
  }
 },
 "nbformat": 4,
 "nbformat_minor": 4
}
